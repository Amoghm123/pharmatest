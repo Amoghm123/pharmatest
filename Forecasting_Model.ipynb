{
 "cells": [
  {
   "cell_type": "code",
   "execution_count": 3,
   "id": "3a253353",
   "metadata": {},
   "outputs": [
    {
     "name": "stdout",
     "output_type": "stream",
     "text": [
      "Collecting refractio[snowflake]\n",
      "  Using cached https://files.pythonhosted.org/packages/36/7d/526bf66307a2074dbb9bd4f2e688e92465a97018f6478511046c185034b1/refractio-2.1.5.5-py3-none-any.whl\n",
      "Collecting pandas==2.0.0\n",
      "  Using cached https://files.pythonhosted.org/packages/66/7c/93b2b93ef90642a6a8ecf896d669f8ab5579b36fef7faca730b0c1da6034/pandas-2.0.0-cp39-cp39-manylinux_2_17_x86_64.manylinux2014_x86_64.whl\n",
      "Collecting snowflake-connector-python[pandas]==3.6.0; extra == \"snowflake\"\n",
      "  Using cached https://files.pythonhosted.org/packages/1b/a8/6ffd1f90333dec9a6e08e97894a05a8c2aec56b1e0b73b7a3e21d47d6269/snowflake_connector_python-3.6.0-cp39-cp39-manylinux_2_17_x86_64.manylinux2014_x86_64.whl\n",
      "Collecting numpy>=1.20.3; python_version < \"3.10\"\n",
      "  Using cached https://files.pythonhosted.org/packages/54/30/c2a907b9443cf42b90c17ad10c1e8fa801975f01cb9764f3f8eb8aea638b/numpy-1.26.4-cp39-cp39-manylinux_2_17_x86_64.manylinux2014_x86_64.whl\n",
      "Collecting python-dateutil>=2.8.2\n",
      "  Using cached https://files.pythonhosted.org/packages/ec/57/56b9bcc3c9c6a792fcbaf139543cee77261f3651ca9da0c93f5c1221264b/python_dateutil-2.9.0.post0-py2.py3-none-any.whl\n",
      "Collecting tzdata>=2022.1\n",
      "  Using cached https://files.pythonhosted.org/packages/65/58/f9c9e6be752e9fcb8b6a0ee9fb87e6e7a1f6bcab2cdc73f02bb7ba91ada0/tzdata-2024.1-py2.py3-none-any.whl\n",
      "Collecting pytz>=2020.1\n",
      "  Using cached https://files.pythonhosted.org/packages/9c/3d/a121f284241f08268b21359bd425f7d4825cffc5ac5cd0e1b3d82ffd2b10/pytz-2024.1-py2.py3-none-any.whl\n",
      "Collecting charset-normalizer<4,>=2\n",
      "  Using cached https://files.pythonhosted.org/packages/98/69/5d8751b4b670d623aa7a47bef061d69c279e9f922f6705147983aa76c3ce/charset_normalizer-3.3.2-cp39-cp39-manylinux_2_17_x86_64.manylinux2014_x86_64.whl\n",
      "Collecting pyjwt<3.0.0\n",
      "  Using cached https://files.pythonhosted.org/packages/2b/4f/e04a8067c7c96c364cef7ef73906504e2f40d690811c021e1a1901473a19/PyJWT-2.8.0-py3-none-any.whl\n",
      "Collecting cffi<2.0.0,>=1.9\n",
      "  Using cached https://files.pythonhosted.org/packages/ea/ac/e9e77bc385729035143e54cc8c4785bd480eaca9df17565963556b0b7a93/cffi-1.16.0-cp39-cp39-manylinux_2_17_x86_64.manylinux2014_x86_64.whl\n",
      "Collecting requests<3.0.0\n",
      "  Using cached https://files.pythonhosted.org/packages/c3/20/748e38b466e0819491f0ce6e90ebe4184966ee304fe483e2c414b0f4ef07/requests-2.32.2-py3-none-any.whl\n",
      "Collecting idna<4,>=2.5\n",
      "  Using cached https://files.pythonhosted.org/packages/e5/3e/741d8c82801c347547f8a2a06aa57dbb1992be9e948df2ea0eda2c8b79e8/idna-3.7-py3-none-any.whl\n",
      "Collecting cryptography<42.0.0,>=3.1.0\n",
      "  Using cached https://files.pythonhosted.org/packages/14/fd/dd5bd6ab0d12476ebca579cbfd48d31bd90fa28fa257b209df585dcf62a0/cryptography-41.0.7-cp37-abi3-manylinux_2_17_x86_64.manylinux2014_x86_64.whl\n",
      "Collecting sortedcontainers>=2.4.0\n",
      "  Using cached https://files.pythonhosted.org/packages/32/46/9cb0e58b2deb7f82b84065f37f3bffeb12413f947f9388e4cac22c4621ce/sortedcontainers-2.4.0-py2.py3-none-any.whl\n",
      "Collecting certifi>=2017.4.17\n",
      "  Using cached https://files.pythonhosted.org/packages/ba/06/a07f096c664aeb9f01624f858c3add0a4e913d6c96257acb4fce61e7de14/certifi-2024.2.2-py3-none-any.whl\n",
      "Collecting pyOpenSSL<24.0.0,>=16.2.0\n",
      "  Using cached https://files.pythonhosted.org/packages/db/de/007b832ad7a95e6a73745609bbe123c407aa2c46bb0b8f765c8718294e7f/pyOpenSSL-23.3.0-py3-none-any.whl\n",
      "Collecting packaging\n",
      "  Using cached https://files.pythonhosted.org/packages/49/df/1fceb2f8900f8639e278b056416d49134fb8d84c5942ffaa01ad34782422/packaging-24.0-py3-none-any.whl\n",
      "Collecting platformdirs<4.0.0,>=2.6.0\n",
      "  Using cached https://files.pythonhosted.org/packages/56/29/3ec311dc18804409ecf0d2b09caa976f3ae6215559306b5b530004e11156/platformdirs-3.11.0-py3-none-any.whl\n",
      "Collecting filelock<4,>=3.5\n",
      "  Using cached https://files.pythonhosted.org/packages/41/24/0b023b6537dfc9bae2c779353998e3e99ac7dfff4222fc6126650e93c3f3/filelock-3.14.0-py3-none-any.whl\n",
      "Collecting tomlkit\n",
      "  Using cached https://files.pythonhosted.org/packages/73/6d/b5406752c4e4ba86692b22fab0afed8b48f16bdde8f92e1d852976b61dc6/tomlkit-0.12.5-py3-none-any.whl\n",
      "Collecting urllib3<2.0.0,>=1.21.1; python_version < \"3.10\"\n",
      "  Using cached https://files.pythonhosted.org/packages/b0/53/aa91e163dcfd1e5b82d8a890ecf13314e3e149c05270cc644581f77f17fd/urllib3-1.26.18-py2.py3-none-any.whl\n",
      "Collecting asn1crypto<2.0.0,>0.24.0\n",
      "  Using cached https://files.pythonhosted.org/packages/c9/7f/09065fd9e27da0eda08b4d6897f1c13535066174cc023af248fc2a8d5e5a/asn1crypto-1.5.1-py2.py3-none-any.whl\n",
      "Collecting typing-extensions<5,>=4.3\n",
      "  Using cached https://files.pythonhosted.org/packages/01/f3/936e209267d6ef7510322191003885de524fc48d1b43269810cd589ceaf5/typing_extensions-4.11.0-py3-none-any.whl\n",
      "Collecting pyarrow; extra == \"pandas\"\n",
      "  Using cached https://files.pythonhosted.org/packages/df/3e/9cfa78ad9744c77e4f3c183d919de3649505e50663d3715151a094c27769/pyarrow-16.1.0-cp39-cp39-manylinux_2_17_x86_64.manylinux2014_x86_64.whl\n",
      "Collecting six>=1.5\n",
      "  Using cached https://files.pythonhosted.org/packages/d9/5a/e7c31adbe875f2abbb91bd84cf2dc52d792b5a01506781dbcf25c91daf11/six-1.16.0-py2.py3-none-any.whl\n",
      "Collecting pycparser\n",
      "  Using cached https://files.pythonhosted.org/packages/13/a3/a812df4e2dd5696d1f351d58b8fe16a405b234ad2886a0dab9183fb78109/pycparser-2.22-py3-none-any.whl\n",
      "\u001b[31mERROR: openapi-schema-validator 0.6.2 has requirement jsonschema<5.0.0,>=4.19.1, but you'll have jsonschema 4.19.0 which is incompatible.\u001b[0m\n",
      "\u001b[31mERROR: mosaic-ai-client 1.0.0 has requirement matplotlib==3.1.1, but you'll have matplotlib 3.6.0 which is incompatible.\u001b[0m\n",
      "\u001b[31mERROR: jupyterlab 3.2.4 has requirement jupyter-server~=1.4, but you'll have jupyter-server 2.7.3 which is incompatible.\u001b[0m\n",
      "\u001b[31mERROR: jsonschema-path 0.3.2 has requirement referencing<0.32.0,>=0.28.0, but you'll have referencing 0.33.0 which is incompatible.\u001b[0m\n",
      "Installing collected packages: numpy, six, python-dateutil, tzdata, pytz, pandas, charset-normalizer, pyjwt, pycparser, cffi, certifi, idna, urllib3, requests, cryptography, sortedcontainers, pyOpenSSL, packaging, platformdirs, filelock, tomlkit, asn1crypto, typing-extensions, pyarrow, snowflake-connector-python, refractio\n",
      "Successfully installed asn1crypto-1.5.1 certifi-2024.2.2 cffi-1.16.0 charset-normalizer-3.3.2 cryptography-41.0.7 filelock-3.14.0 idna-3.7 numpy-1.26.4 packaging-24.0 pandas-2.0.0 platformdirs-3.11.0 pyOpenSSL-23.3.0 pyarrow-16.1.0 pycparser-2.22 pyjwt-2.8.0 python-dateutil-2.9.0.post0 pytz-2024.1 refractio-2.1.5.5 requests-2.32.2 six-1.16.0 snowflake-connector-python-3.6.0 sortedcontainers-2.4.0 tomlkit-0.12.5 typing-extensions-4.11.0 tzdata-2024.1 urllib3-1.26.18\n",
      "\u001b[33mWARNING: Target directory /tmp/pip_packages/numpy already exists. Specify --upgrade to force replacement.\u001b[0m\n",
      "\u001b[33mWARNING: Target directory /tmp/pip_packages/numpy-1.26.4.dist-info already exists. Specify --upgrade to force replacement.\u001b[0m\n",
      "\u001b[33mWARNING: Target directory /tmp/pip_packages/numpy.libs already exists. Specify --upgrade to force replacement.\u001b[0m\n",
      "\u001b[33mWARNING: Target directory /tmp/pip_packages/six.py already exists. Specify --upgrade to force replacement.\u001b[0m\n",
      "\u001b[33mWARNING: Target directory /tmp/pip_packages/six-1.16.0.dist-info already exists. Specify --upgrade to force replacement.\u001b[0m\n",
      "\u001b[33mWARNING: Target directory /tmp/pip_packages/__pycache__ already exists. Specify --upgrade to force replacement.\u001b[0m\n",
      "\u001b[33mWARNING: Target directory /tmp/pip_packages/dateutil already exists. Specify --upgrade to force replacement.\u001b[0m\n",
      "\u001b[33mWARNING: Target directory /tmp/pip_packages/python_dateutil-2.9.0.post0.dist-info already exists. Specify --upgrade to force replacement.\u001b[0m\n",
      "\u001b[33mWARNING: Target directory /tmp/pip_packages/tzdata already exists. Specify --upgrade to force replacement.\u001b[0m\n",
      "\u001b[33mWARNING: Target directory /tmp/pip_packages/tzdata-2024.1.dist-info already exists. Specify --upgrade to force replacement.\u001b[0m\n",
      "\u001b[33mWARNING: Target directory /tmp/pip_packages/pytz already exists. Specify --upgrade to force replacement.\u001b[0m\n",
      "\u001b[33mWARNING: Target directory /tmp/pip_packages/pytz-2024.1.dist-info already exists. Specify --upgrade to force replacement.\u001b[0m\n",
      "\u001b[33mWARNING: Target directory /tmp/pip_packages/pandas-2.0.0.dist-info already exists. Specify --upgrade to force replacement.\u001b[0m\n",
      "\u001b[33mWARNING: Target directory /tmp/pip_packages/pandas already exists. Specify --upgrade to force replacement.\u001b[0m\n",
      "\u001b[33mWARNING: Target directory /tmp/pip_packages/charset_normalizer already exists. Specify --upgrade to force replacement.\u001b[0m\n",
      "\u001b[33mWARNING: Target directory /tmp/pip_packages/charset_normalizer-3.3.2.dist-info already exists. Specify --upgrade to force replacement.\u001b[0m\n",
      "\u001b[33mWARNING: Target directory /tmp/pip_packages/jwt already exists. Specify --upgrade to force replacement.\u001b[0m\n",
      "\u001b[33mWARNING: Target directory /tmp/pip_packages/PyJWT-2.8.0.dist-info already exists. Specify --upgrade to force replacement.\u001b[0m\n",
      "\u001b[33mWARNING: Target directory /tmp/pip_packages/pycparser already exists. Specify --upgrade to force replacement.\u001b[0m\n",
      "\u001b[33mWARNING: Target directory /tmp/pip_packages/pycparser-2.22.dist-info already exists. Specify --upgrade to force replacement.\u001b[0m\n",
      "\u001b[33mWARNING: Target directory /tmp/pip_packages/_cffi_backend.cpython-39-x86_64-linux-gnu.so already exists. Specify --upgrade to force replacement.\u001b[0m\n",
      "\u001b[33mWARNING: Target directory /tmp/pip_packages/cffi already exists. Specify --upgrade to force replacement.\u001b[0m\n",
      "\u001b[33mWARNING: Target directory /tmp/pip_packages/cffi-1.16.0.dist-info already exists. Specify --upgrade to force replacement.\u001b[0m\n",
      "\u001b[33mWARNING: Target directory /tmp/pip_packages/certifi already exists. Specify --upgrade to force replacement.\u001b[0m\n",
      "\u001b[33mWARNING: Target directory /tmp/pip_packages/certifi-2024.2.2.dist-info already exists. Specify --upgrade to force replacement.\u001b[0m\n",
      "\u001b[33mWARNING: Target directory /tmp/pip_packages/idna already exists. Specify --upgrade to force replacement.\u001b[0m\n",
      "\u001b[33mWARNING: Target directory /tmp/pip_packages/idna-3.7.dist-info already exists. Specify --upgrade to force replacement.\u001b[0m\n",
      "\u001b[33mWARNING: Target directory /tmp/pip_packages/urllib3 already exists. Specify --upgrade to force replacement.\u001b[0m\n",
      "\u001b[33mWARNING: Target directory /tmp/pip_packages/urllib3-1.26.18.dist-info already exists. Specify --upgrade to force replacement.\u001b[0m\n",
      "\u001b[33mWARNING: Target directory /tmp/pip_packages/requests already exists. Specify --upgrade to force replacement.\u001b[0m\n",
      "\u001b[33mWARNING: Target directory /tmp/pip_packages/requests-2.32.2.dist-info already exists. Specify --upgrade to force replacement.\u001b[0m\n",
      "\u001b[33mWARNING: Target directory /tmp/pip_packages/cryptography already exists. Specify --upgrade to force replacement.\u001b[0m\n",
      "\u001b[33mWARNING: Target directory /tmp/pip_packages/cryptography-41.0.7.dist-info already exists. Specify --upgrade to force replacement.\u001b[0m\n",
      "\u001b[33mWARNING: Target directory /tmp/pip_packages/sortedcontainers already exists. Specify --upgrade to force replacement.\u001b[0m\n",
      "\u001b[33mWARNING: Target directory /tmp/pip_packages/sortedcontainers-2.4.0.dist-info already exists. Specify --upgrade to force replacement.\u001b[0m\n",
      "\u001b[33mWARNING: Target directory /tmp/pip_packages/OpenSSL already exists. Specify --upgrade to force replacement.\u001b[0m\n",
      "\u001b[33mWARNING: Target directory /tmp/pip_packages/pyOpenSSL-23.3.0.dist-info already exists. Specify --upgrade to force replacement.\u001b[0m\n",
      "\u001b[33mWARNING: Target directory /tmp/pip_packages/packaging already exists. Specify --upgrade to force replacement.\u001b[0m\n",
      "\u001b[33mWARNING: Target directory /tmp/pip_packages/packaging-24.0.dist-info already exists. Specify --upgrade to force replacement.\u001b[0m\n",
      "\u001b[33mWARNING: Target directory /tmp/pip_packages/platformdirs already exists. Specify --upgrade to force replacement.\u001b[0m\n",
      "\u001b[33mWARNING: Target directory /tmp/pip_packages/platformdirs-3.11.0.dist-info already exists. Specify --upgrade to force replacement.\u001b[0m\n",
      "\u001b[33mWARNING: Target directory /tmp/pip_packages/filelock already exists. Specify --upgrade to force replacement.\u001b[0m\n",
      "\u001b[33mWARNING: Target directory /tmp/pip_packages/filelock-3.14.0.dist-info already exists. Specify --upgrade to force replacement.\u001b[0m\n",
      "\u001b[33mWARNING: Target directory /tmp/pip_packages/tomlkit already exists. Specify --upgrade to force replacement.\u001b[0m\n",
      "\u001b[33mWARNING: Target directory /tmp/pip_packages/tomlkit-0.12.5.dist-info already exists. Specify --upgrade to force replacement.\u001b[0m\n",
      "\u001b[33mWARNING: Target directory /tmp/pip_packages/asn1crypto already exists. Specify --upgrade to force replacement.\u001b[0m\n",
      "\u001b[33mWARNING: Target directory /tmp/pip_packages/asn1crypto-1.5.1.dist-info already exists. Specify --upgrade to force replacement.\u001b[0m\n",
      "\u001b[33mWARNING: Target directory /tmp/pip_packages/typing_extensions.py already exists. Specify --upgrade to force replacement.\u001b[0m\n",
      "\u001b[33mWARNING: Target directory /tmp/pip_packages/typing_extensions-4.11.0.dist-info already exists. Specify --upgrade to force replacement.\u001b[0m\n",
      "\u001b[33mWARNING: Target directory /tmp/pip_packages/pyarrow already exists. Specify --upgrade to force replacement.\u001b[0m\n",
      "\u001b[33mWARNING: Target directory /tmp/pip_packages/pyarrow-16.1.0.dist-info already exists. Specify --upgrade to force replacement.\u001b[0m\n",
      "\u001b[33mWARNING: Target directory /tmp/pip_packages/snowflake already exists. Specify --upgrade to force replacement.\u001b[0m\n",
      "\u001b[33mWARNING: Target directory /tmp/pip_packages/snowflake_connector_python-3.6.0.dist-info already exists. Specify --upgrade to force replacement.\u001b[0m\n",
      "\u001b[33mWARNING: Target directory /tmp/pip_packages/refractio already exists. Specify --upgrade to force replacement.\u001b[0m\n",
      "\u001b[33mWARNING: Target directory /tmp/pip_packages/refractio-2.1.5.5.dist-info already exists. Specify --upgrade to force replacement.\u001b[0m\n",
      "\u001b[33mWARNING: Target directory /tmp/pip_packages/bin already exists. Specify --upgrade to force replacement.\u001b[0m\n"
     ]
    },
    {
     "name": "stdout",
     "output_type": "stream",
     "text": [
      "\u001b[33mWARNING: You are using pip version 19.3.1; however, version 24.0 is available.\n",
      "You should consider upgrading via the 'pip install --upgrade pip' command.\u001b[0m\n",
      "Note: you may need to restart the kernel to use updated packages.\n"
     ]
    }
   ],
   "source": [
    "pip install refractio[snowflake]"
   ]
  },
  {
   "cell_type": "code",
   "execution_count": 3,
   "id": "e5a83241",
   "metadata": {},
   "outputs": [
    {
     "name": "stdout",
     "output_type": "stream",
     "text": [
      "User name picked from OS env: amogh.mothkur@fosfor.com\n",
      "Fetching connections created by amogh.mothkur@fosfor.com user\n",
      "Connection names fetched ['pharmaconn1', 'PharmaDB', 'Snowflake pharma'], created by amogh.mothkur@fosfor.com\n",
      "Connection object created: <snowflake.connector.connection.SnowflakeConnection object at 0x7f233034f4f0>\n",
      "Please close the connection after use!\n",
      "       PHYSICIAN_ID   IMS_ID      NPI_ID             ADDRESS          STATE   \n",
      "0           6089037  6089038  1871526343  12400 S Harlem Ave  Palos Heights  \\\n",
      "1           6089037  6089038  1871526343  12400 S Harlem Ave  Palos Heights   \n",
      "2           6089037  6089038  1871526343  12400 S Harlem Ave  Palos Heights   \n",
      "3           6089037  6089038  1871526343  12400 S Harlem Ave  Palos Heights   \n",
      "4           6089037  6089038  1871526343  12400 S Harlem Ave  Palos Heights   \n",
      "...             ...      ...         ...                 ...            ...   \n",
      "282523      6315914  6315915  1922040658    6065 Montana Ave        El Paso   \n",
      "282524      6315914  6315915  1922040658    6065 Montana Ave        El Paso   \n",
      "282525      6315914  6315915  1922040658    6065 Montana Ave        El Paso   \n",
      "282526      6315914  6315915  1922040658    6065 Montana Ave        El Paso   \n",
      "282527      6315914  6315915  1922040658    6065 Montana Ave        El Paso   \n",
      "\n",
      "       CITY  ZIP_CODE   PHYSICIAN_NAME     REGION      DISTRICT  ... NTS   \n",
      "0        IL     60463  Eric P. Teplitz    Midwest  OAK LAWN, IL  ...   0  \\\n",
      "1        IL     60463  Eric P. Teplitz    Midwest  OAK LAWN, IL  ...   0   \n",
      "2        IL     60463  Eric P. Teplitz    Midwest  OAK LAWN, IL  ...   0   \n",
      "3        IL     60463  Eric P. Teplitz    Midwest  OAK LAWN, IL  ...   1   \n",
      "4        IL     60463  Eric P. Teplitz    Midwest  OAK LAWN, IL  ...   0   \n",
      "...     ...       ...              ...        ...           ...  ...  ..   \n",
      "282523   TX     79925  Zafer H. Haydar  Southwest   EL PASO, TX  ...   2   \n",
      "282524   TX     79925  Zafer H. Haydar  Southwest   EL PASO, TX  ...   2   \n",
      "282525   TX     79925  Zafer H. Haydar  Southwest   EL PASO, TX  ...   2   \n",
      "282526   TX     79925  Zafer H. Haydar  Southwest   EL PASO, TX  ...   0   \n",
      "282527   TX     79925  Zafer H. Haydar  Southwest   EL PASO, TX  ...   0   \n",
      "\n",
      "       SWITCH CALL_DETAILS VEEVA_APPROVED_EMAIL REMOTE_CALLS TARGET_TYPE   \n",
      "0           1            0                    0            0      Target  \\\n",
      "1           1            0                    0            0      Target   \n",
      "2           0            0                    0            0      Target   \n",
      "3           2            4                    4            1      Target   \n",
      "4           0            0                    0            0      Target   \n",
      "...       ...          ...                  ...          ...         ...   \n",
      "282523      1            5                    4            5      Target   \n",
      "282524      2            5                    2            2      Target   \n",
      "282525      2            7                    3            5      Target   \n",
      "282526      1            6                    3            5      Target   \n",
      "282527      0            7                    4            2      Target   \n",
      "\n",
      "       PAYER_CHANNEL            PAYER REFILLS        DATE  \n",
      "0               Cash             Cash       3  2022-04-01  \n",
      "1               Cash             Cash       2  2022-04-01  \n",
      "2               Cash             Cash       1  2022-04-01  \n",
      "3               Cash             Cash       1  2022-04-01  \n",
      "4               Cash             Cash       0  2022-05-01  \n",
      "...              ...              ...     ...         ...  \n",
      "282523      Medicare    BCBS Medicare       1  2022-08-01  \n",
      "282524      Medicare  Affinity Health       2  2022-07-01  \n",
      "282525      Medicare    BCBS Medicare       1  2022-06-01  \n",
      "282526      Medicare  Affinity Health       4  2022-05-01  \n",
      "282527      Medicare    BCBS Medicare       4  2022-04-01  \n",
      "\n",
      "[282528 rows x 32 columns]\n"
     ]
    }
   ],
   "source": [
    "from refractio import snowflake\n",
    "dataset=snowflake.execute_query(f\" SELECT * FROM PHARMA.PUBLIC.PHYSICIAN_FINAL_2\")\n",
    "print(dataset)"
   ]
  },
  {
   "cell_type": "code",
   "execution_count": 11,
   "id": "1f00ae83",
   "metadata": {},
   "outputs": [
    {
     "name": "stdout",
     "output_type": "stream",
     "text": [
      "Exception occurred in execute_query: 'params'\n"
     ]
    }
   ],
   "source": [
    "snowflake.execute_query(f\" SELECT * FROM PHYSICIAN_FINAL_2\")"
   ]
  },
  {
   "cell_type": "code",
   "execution_count": 10,
   "id": "3a2340c2",
   "metadata": {},
   "outputs": [
    {
     "name": "stdout",
     "output_type": "stream",
     "text": [
      "Exception occurred in execute_query: 'params'\n",
      "None\n",
      "<snowflake.connector.connection.SnowflakeConnection object at 0x7f448da288b0>\n",
      "Connection details fetched: {'errorCode': 'CNM-404', 'message': 'Asset not found', 'detailMessage': 'Datasource not found by name physician_final_1', 'timeStamp': '2024-05-23 12:30:37.751', 'api': '/v1/external/getConnConfig/{dataSourceName}/{userId}/{projectId}'}\n",
      "Ex: 'params'\n",
      "Exception occurred in reading data_frame from snowflake connection: Exception occurred in creating snowflake connection: Datasource not found by name physician_final_1\n"
     ]
    },
    {
     "ename": "AttributeError",
     "evalue": "'NoneType' object has no attribute 'columns'",
     "output_type": "error",
     "traceback": [
      "\u001b[0;31m---------------------------------------------------------------------------\u001b[0m",
      "\u001b[0;31mAttributeError\u001b[0m                            Traceback (most recent call last)",
      "Cell \u001b[0;32mIn[10], line 12\u001b[0m\n\u001b[1;32m     10\u001b[0m \u001b[38;5;28mprint\u001b[39m(g)\n\u001b[1;32m     11\u001b[0m dataset \u001b[38;5;241m=\u001b[39m snowflake\u001b[38;5;241m.\u001b[39mget_dataframe(\u001b[38;5;124m\"\u001b[39m\u001b[38;5;124mphysician_final_1\u001b[39m\u001b[38;5;124m\"\u001b[39m)\n\u001b[0;32m---> 12\u001b[0m \u001b[43mdataset\u001b[49m\u001b[38;5;241;43m.\u001b[39;49m\u001b[43mcolumns\u001b[49m\n\u001b[1;32m     14\u001b[0m \u001b[38;5;66;03m#dataset = snowflake.get_dataframe(\"physician_final_1\")\u001b[39;00m\n\u001b[1;32m     15\u001b[0m \u001b[38;5;66;03m#dataset.columns\u001b[39;00m\n",
      "\u001b[0;31mAttributeError\u001b[0m: 'NoneType' object has no attribute 'columns'"
     ]
    }
   ],
   "source": [
    "from refractio import snowflake\n",
    "import matplotlib.pyplot as plt\n",
    "import pandas as pd\n",
    "# To read a specific dataset published from a snowflake connection with only top few records.\n",
    "x=snowflake.execute_query(\"show USERS;\")\n",
    "print(x)\n",
    "\n",
    "dataset = snowflake.get_dataframe(\"physician_final_1\")\n",
    "dataset.columns\n",
    "\n",
    "#dataset = snowflake.get_dataframe(\"physician_final_1\")\n",
    "#dataset.columns"
   ]
  },
  {
   "cell_type": "code",
   "execution_count": 6,
   "id": "e1fbc8e8",
   "metadata": {},
   "outputs": [
    {
     "data": {
      "image/png": "[encoded data removed]",
      "text/plain": [
       "<Figure size 864x360 with 1 Axes>"
      ]
     },
     "metadata": {
      "needs_background": "light"
     },
     "output_type": "display_data"
    }
   ],
   "source": [
    "import matplotlib.pyplot as plt\n",
    "import pandas as pd\n",
    "alphatumab_data = dataset[dataset['BRAND']=='ALPHATUMAB']\n",
    "alphatumab_data.loc[:,'DATE'] = pd.to_datetime(alphatumab_data.loc[:,'DATE'])\n",
    "monthly_data = alphatumab_data.resample('M', on='DATE').sum()\n",
    "plt.figure(figsize = (12,5))\n",
    "plt.plot(monthly_data.index , monthly_data['TRX'],  marker='o',  linestyle = '-')\n",
    "plt.title('Trend of TRx over time for ALPHATUMAB')\n",
    "plt.xlabel('DATE')\n",
    "plt.ylabel('No of TRx')\n",
    "plt.grid(True)\n",
    "plt.show()"
   ]
  },
  {
   "cell_type": "code",
   "execution_count": 7,
   "id": "4c8fae8a",
   "metadata": {},
   "outputs": [
    {
     "data": {
      "image/png": "[encoded data removed]",
      "text/plain": [
       "<Figure size 864x360 with 1 Axes>"
      ]
     },
     "metadata": {
      "needs_background": "light"
     },
     "output_type": "display_data"
    }
   ],
   "source": [
    "betatab_data = dataset[dataset['BRAND']=='BETATAB']\n",
    "betatab_data.loc[:,'DATE'] = pd.to_datetime(betatab_data.loc[:,'DATE'])\n",
    "monthly_data = betatab_data.resample('M', on='DATE').sum()\n",
    "plt.figure(figsize = (12,5))\n",
    "plt.plot(monthly_data.index , monthly_data['TRX'],  marker='o',  linestyle = '-')\n",
    "plt.title('Trend of TRx over time for BETATAB')\n",
    "plt.xlabel('DATE')\n",
    "plt.ylabel('No of TRx')\n",
    "plt.grid(True)\n",
    "plt.show()"
   ]
  },
  {
   "cell_type": "code",
   "execution_count": 8,
   "id": "73027d52",
   "metadata": {},
   "outputs": [
    {
     "data": {
      "image/png": "[encoded data removed]",
      "text/plain": [
       "<Figure size 864x360 with 1 Axes>"
      ]
     },
     "metadata": {
      "needs_background": "light"
     },
     "output_type": "display_data"
    }
   ],
   "source": [
    "zeldatab_data = dataset[dataset['BRAND']=='ZELDATAB']\n",
    "zeldatab_data.loc[:,'DATE'] = pd.to_datetime(zeldatab_data.loc[:,'DATE'])\n",
    "monthly_data = zeldatab_data.resample('M', on='DATE').sum()\n",
    "plt.figure(figsize = (12,5))\n",
    "plt.plot(monthly_data.index , monthly_data['TRX'],  marker='o',  linestyle = '-')\n",
    "plt.title('Trend of TRx over time for ZELDATAB')\n",
    "plt.xlabel('DATE')\n",
    "plt.ylabel('No of TRx')\n",
    "plt.grid(True)\n",
    "plt.show()"
   ]
  },
  {
   "cell_type": "code",
   "execution_count": 9,
   "id": "02103938",
   "metadata": {},
   "outputs": [
    {
     "data": {
      "image/png": "[encoded data removed]",
      "text/plain": [
       "<Figure size 864x360 with 1 Axes>"
      ]
     },
     "metadata": {
      "needs_background": "light"
     },
     "output_type": "display_data"
    }
   ],
   "source": [
    "xetamab_data = dataset[dataset['BRAND']=='XETAMAB']\n",
    "xetamab_data.loc[:,'DATE'] = pd.to_datetime(xetamab_data.loc[:,'DATE'])\n",
    "monthly_data = xetamab_data.resample('M', on='DATE').sum()\n",
    "plt.figure(figsize = (12,5))\n",
    "plt.plot(monthly_data.index , monthly_data['TRX'],  marker='o',  linestyle = '-')\n",
    "plt.title('Trend of TRx over time for XETAMAB')\n",
    "plt.xlabel('DATE')\n",
    "plt.ylabel('No of TRx')\n",
    "plt.grid(True)\n",
    "plt.show()"
   ]
  },
  {
   "cell_type": "code",
   "execution_count": null,
   "id": "16e220dc",
   "metadata": {},
   "outputs": [],
   "source": [
    "dataset['DATE'] = pd.to_datetime(dataset['DATE'])\n",
    "grouped_data = dataset.groupby(['BRAND' , 'REGION', pd.Grouper(key = 'DATE', freq= 'M')]).sum().reset_index()\n",
    "region_list = grouped_data['REGION'].unique()\n",
    "brand_list = grouped_data['BRAND'].unique()\n",
    "fig1,axs1 = plt.subplots(len(region_list), 2 , figsize = (20,20), sharey=True)\n",
    "fig1.suptitle('Trend over time for diffrent Region and Brand')\n",
    "\n",
    "for i, region in enumerate(region_list):\n",
    "    for j, brand in enumerate(brand_list[:2]):\n",
    "        region_brand_data = grouped_data[(grouped_data['REGION']== region) & (grouped_data['BRAND'] == brand)]\n",
    "        axs1[i,j].plot(region_brand_data['DATE'], region_brand_data['TRX'] , marker='o' , linestyle='-')\n",
    "        axs1[i,j].set_title(f'REGION: {region}, BRAND: {brand}')\n",
    "        axs1[i,j].set_xlable = ('Time')\n",
    "        axs1[i,j].set_ylable = ('No of TRx')\n",
    "        axs1[i,j].grid(True)\n",
    "plt.tight_layout()\n",
    "plt.show()\n",
    "fig2,axs2 = plt.subplots(len(region_list), 2 , figsize = (20,20), sharey=True)\n",
    "fig2.suptitle('Trend over time for diffrent Region and Brand')\n",
    "for i, region in enumerate(region_list):\n",
    "    for j, brand in enumerate(brand_list[2:]):\n",
    "        region_brand_data = grouped_data[(grouped_data['REGION']== region) & (grouped_data['BRAND'] == brand)]\n",
    "        axs2[i,j].plot(region_brand_data['DATE'], region_brand_data['TRX'] , marker='o' , linestyle='-')\n",
    "        axs2[i,j].set_title(f'REGION: {region}, BRAND: {brand}')\n",
    "        axs2[i,j].set_xlable = ('Time')\n",
    "        axs2[i,j].set_ylable = ('No of TRx')\n",
    "        axs2[i,j].grid(True)\n",
    "plt.tight_layout()\n",
    "plt.show()"
   ]
  },
  {
   "cell_type": "code",
   "execution_count": 7,
   "id": "aa2c23f7",
   "metadata": {},
   "outputs": [
    {
     "data": {
      "text/plain": [
       "[<matplotlib.lines.Line2D at 0x7f431cc55450>]"
      ]
     },
     "execution_count": 7,
     "metadata": {},
     "output_type": "execute_result"
    },
    {
     "data": {
      "image/png": "[encoded data removed]",
      "text/plain": [
       "<Figure size 720x288 with 1 Axes>"
      ]
     },
     "metadata": {
      "needs_background": "light"
     },
     "output_type": "display_data"
    }
   ],
   "source": [
    "alphatumab_md_data = grouped_data[(grouped_data['BRAND']  == 'ALPHATUMAB') & (grouped_data['REGION'] == 'Mid-Atlantic')]\n",
    "final_dataset = alphatumab_md_data[['DATE','TRX_DERIVED']]\n",
    "plt.figure(figsize=(10,4))\n",
    "plt.xlabel(\"Months\")\n",
    "plt.ylabel(\"TRx\")\n",
    "plt.plot(final_dataset['TRX_DERIVED'])"
   ]
  },
  {
   "cell_type": "code",
   "execution_count": 12,
   "id": "1caadf1d",
   "metadata": {},
   "outputs": [
    {
     "data": {
      "image/png": "[encoded data removed]",
      "text/plain": [
       "<Figure size 432x288 with 4 Axes>"
      ]
     },
     "metadata": {
      "needs_background": "light"
     },
     "output_type": "display_data"
    },
    {
     "data": {
      "image/png": "[encoded data removed]",
      "text/plain": [
       "<Figure size 432x288 with 4 Axes>"
      ]
     },
     "metadata": {
      "needs_background": "light"
     },
     "output_type": "display_data"
    }
   ],
   "source": [
    "#Decomposing Time series\n",
    "from statsmodels.tsa.seasonal import seasonal_decompose\n",
    "ts_decompose_multiplicative = seasonal_decompose(final_dataset['TRX_DERIVED'], model = 'multiplicative', period=12, extrapolate_trend = 'freq')\n",
    "ts_decompose_additive = seasonal_decompose(final_dataset['TRX_DERIVED'], model = 'additive', period=12, extrapolate_trend = 'freq')\n",
    "#Plotting \n",
    "#ts_decompose.show()\n",
    "ts_plot = ts_decompose_multiplicative.plot()\n",
    "ts_plot = ts_decompose_additive.plot()"
   ]
  },
  {
   "cell_type": "code",
   "execution_count": 11,
   "id": "fdaec6ff",
   "metadata": {},
   "outputs": [],
   "source": [
    "#pip install statsmodels"
   ]
  },
  {
   "cell_type": "code",
   "execution_count": 13,
   "id": "2addc342",
   "metadata": {},
   "outputs": [
    {
     "data": {
      "text/html": [
       "<div>\n",
       "<style scoped>\n",
       "    .dataframe tbody tr th:only-of-type {\n",
       "        vertical-align: middle;\n",
       "    }\n",
       "\n",
       "    .dataframe tbody tr th {\n",
       "        vertical-align: top;\n",
       "    }\n",
       "\n",
       "    .dataframe thead th {\n",
       "        text-align: right;\n",
       "    }\n",
       "</style>\n",
       "<table border=\"1\" class=\"dataframe\">\n",
       "  <thead>\n",
       "    <tr style=\"text-align: right;\">\n",
       "      <th></th>\n",
       "      <th>seas</th>\n",
       "      <th>trend</th>\n",
       "      <th>resid</th>\n",
       "      <th>actual_values</th>\n",
       "    </tr>\n",
       "  </thead>\n",
       "  <tbody>\n",
       "    <tr>\n",
       "      <th>0</th>\n",
       "      <td>1.022673</td>\n",
       "      <td>10677.850758</td>\n",
       "      <td>0.923631</td>\n",
       "      <td>10086.0</td>\n",
       "    </tr>\n",
       "    <tr>\n",
       "      <th>1</th>\n",
       "      <td>0.998521</td>\n",
       "      <td>10726.886364</td>\n",
       "      <td>1.046959</td>\n",
       "      <td>11214.0</td>\n",
       "    </tr>\n",
       "    <tr>\n",
       "      <th>2</th>\n",
       "      <td>1.101430</td>\n",
       "      <td>10775.921970</td>\n",
       "      <td>0.921650</td>\n",
       "      <td>10939.0</td>\n",
       "    </tr>\n",
       "    <tr>\n",
       "      <th>3</th>\n",
       "      <td>1.062208</td>\n",
       "      <td>10824.957576</td>\n",
       "      <td>1.039279</td>\n",
       "      <td>11950.0</td>\n",
       "    </tr>\n",
       "    <tr>\n",
       "      <th>4</th>\n",
       "      <td>1.067609</td>\n",
       "      <td>10873.993182</td>\n",
       "      <td>0.999382</td>\n",
       "      <td>11602.0</td>\n",
       "    </tr>\n",
       "    <tr>\n",
       "      <th>5</th>\n",
       "      <td>0.944902</td>\n",
       "      <td>10923.028788</td>\n",
       "      <td>0.994071</td>\n",
       "      <td>10260.0</td>\n",
       "    </tr>\n",
       "    <tr>\n",
       "      <th>6</th>\n",
       "      <td>1.028189</td>\n",
       "      <td>10947.166667</td>\n",
       "      <td>1.089043</td>\n",
       "      <td>12258.0</td>\n",
       "    </tr>\n",
       "    <tr>\n",
       "      <th>7</th>\n",
       "      <td>1.023616</td>\n",
       "      <td>11012.791667</td>\n",
       "      <td>0.953528</td>\n",
       "      <td>10749.0</td>\n",
       "    </tr>\n",
       "    <tr>\n",
       "      <th>8</th>\n",
       "      <td>0.827160</td>\n",
       "      <td>11090.250000</td>\n",
       "      <td>0.933567</td>\n",
       "      <td>8564.0</td>\n",
       "    </tr>\n",
       "    <tr>\n",
       "      <th>9</th>\n",
       "      <td>0.999074</td>\n",
       "      <td>11179.833333</td>\n",
       "      <td>0.968442</td>\n",
       "      <td>10817.0</td>\n",
       "    </tr>\n",
       "    <tr>\n",
       "      <th>10</th>\n",
       "      <td>0.816384</td>\n",
       "      <td>11191.791667</td>\n",
       "      <td>1.051682</td>\n",
       "      <td>9609.0</td>\n",
       "    </tr>\n",
       "    <tr>\n",
       "      <th>11</th>\n",
       "      <td>1.108233</td>\n",
       "      <td>11242.833333</td>\n",
       "      <td>0.981245</td>\n",
       "      <td>12226.0</td>\n",
       "    </tr>\n",
       "    <tr>\n",
       "      <th>12</th>\n",
       "      <td>1.022673</td>\n",
       "      <td>11206.250000</td>\n",
       "      <td>1.070650</td>\n",
       "      <td>12270.0</td>\n",
       "    </tr>\n",
       "    <tr>\n",
       "      <th>13</th>\n",
       "      <td>0.998521</td>\n",
       "      <td>11211.291667</td>\n",
       "      <td>0.947322</td>\n",
       "      <td>10605.0</td>\n",
       "    </tr>\n",
       "    <tr>\n",
       "      <th>14</th>\n",
       "      <td>1.101430</td>\n",
       "      <td>11348.125000</td>\n",
       "      <td>1.072631</td>\n",
       "      <td>13407.0</td>\n",
       "    </tr>\n",
       "    <tr>\n",
       "      <th>15</th>\n",
       "      <td>1.062208</td>\n",
       "      <td>11466.750000</td>\n",
       "      <td>0.955002</td>\n",
       "      <td>11632.0</td>\n",
       "    </tr>\n",
       "    <tr>\n",
       "      <th>16</th>\n",
       "      <td>1.067609</td>\n",
       "      <td>11492.583333</td>\n",
       "      <td>0.994899</td>\n",
       "      <td>12207.0</td>\n",
       "    </tr>\n",
       "    <tr>\n",
       "      <th>17</th>\n",
       "      <td>0.944902</td>\n",
       "      <td>11512.000000</td>\n",
       "      <td>1.000210</td>\n",
       "      <td>10880.0</td>\n",
       "    </tr>\n",
       "    <tr>\n",
       "      <th>18</th>\n",
       "      <td>1.028189</td>\n",
       "      <td>11560.491667</td>\n",
       "      <td>0.905239</td>\n",
       "      <td>10760.0</td>\n",
       "    </tr>\n",
       "    <tr>\n",
       "      <th>19</th>\n",
       "      <td>1.023616</td>\n",
       "      <td>11609.527273</td>\n",
       "      <td>1.040753</td>\n",
       "      <td>12368.0</td>\n",
       "    </tr>\n",
       "    <tr>\n",
       "      <th>20</th>\n",
       "      <td>0.827160</td>\n",
       "      <td>11658.562879</td>\n",
       "      <td>1.060714</td>\n",
       "      <td>10229.0</td>\n",
       "    </tr>\n",
       "    <tr>\n",
       "      <th>21</th>\n",
       "      <td>0.999074</td>\n",
       "      <td>11707.598485</td>\n",
       "      <td>1.025839</td>\n",
       "      <td>11999.0</td>\n",
       "    </tr>\n",
       "    <tr>\n",
       "      <th>22</th>\n",
       "      <td>0.816384</td>\n",
       "      <td>11756.634091</td>\n",
       "      <td>0.942600</td>\n",
       "      <td>9047.0</td>\n",
       "    </tr>\n",
       "    <tr>\n",
       "      <th>23</th>\n",
       "      <td>1.108233</td>\n",
       "      <td>11805.669697</td>\n",
       "      <td>1.013037</td>\n",
       "      <td>13254.0</td>\n",
       "    </tr>\n",
       "  </tbody>\n",
       "</table>\n",
       "</div>"
      ],
      "text/plain": [
       "        seas         trend     resid  actual_values\n",
       "0   1.022673  10677.850758  0.923631        10086.0\n",
       "1   0.998521  10726.886364  1.046959        11214.0\n",
       "2   1.101430  10775.921970  0.921650        10939.0\n",
       "3   1.062208  10824.957576  1.039279        11950.0\n",
       "4   1.067609  10873.993182  0.999382        11602.0\n",
       "5   0.944902  10923.028788  0.994071        10260.0\n",
       "6   1.028189  10947.166667  1.089043        12258.0\n",
       "7   1.023616  11012.791667  0.953528        10749.0\n",
       "8   0.827160  11090.250000  0.933567         8564.0\n",
       "9   0.999074  11179.833333  0.968442        10817.0\n",
       "10  0.816384  11191.791667  1.051682         9609.0\n",
       "11  1.108233  11242.833333  0.981245        12226.0\n",
       "12  1.022673  11206.250000  1.070650        12270.0\n",
       "13  0.998521  11211.291667  0.947322        10605.0\n",
       "14  1.101430  11348.125000  1.072631        13407.0\n",
       "15  1.062208  11466.750000  0.955002        11632.0\n",
       "16  1.067609  11492.583333  0.994899        12207.0\n",
       "17  0.944902  11512.000000  1.000210        10880.0\n",
       "18  1.028189  11560.491667  0.905239        10760.0\n",
       "19  1.023616  11609.527273  1.040753        12368.0\n",
       "20  0.827160  11658.562879  1.060714        10229.0\n",
       "21  0.999074  11707.598485  1.025839        11999.0\n",
       "22  0.816384  11756.634091  0.942600         9047.0\n",
       "23  1.108233  11805.669697  1.013037        13254.0"
      ]
     },
     "execution_count": 13,
     "metadata": {},
     "output_type": "execute_result"
    }
   ],
   "source": [
    "df_reconstructed = pd.concat([ts_decompose_multiplicative.seasonal, ts_decompose_multiplicative.trend, ts_decompose_multiplicative.resid, ts_decompose_multiplicative.observed], axis = 1)\n",
    "df_reconstructed.columns = ['seas', 'trend', 'resid', 'actual_values']\n",
    "df_reconstructed"
   ]
  },
  {
   "cell_type": "code",
   "execution_count": 14,
   "id": "755b061a",
   "metadata": {},
   "outputs": [
    {
     "name": "stderr",
     "output_type": "stream",
     "text": [
      "<ipython-input-14-d4034ba1c8ff>:1: SettingWithCopyWarning: \n",
      "A value is trying to be set on a copy of a slice from a DataFrame.\n",
      "Try using .loc[row_indexer,col_indexer] = value instead\n",
      "\n",
      "See the caveats in the documentation: https://pandas.pydata.org/pandas-docs/stable/user_guide/indexing.html#returning-a-view-versus-a-copy\n",
      "  final_dataset.loc[:,'seasonal'] = ts_decompose_multiplicative.seasonal\n",
      "<ipython-input-14-d4034ba1c8ff>:2: SettingWithCopyWarning: \n",
      "A value is trying to be set on a copy of a slice from a DataFrame.\n",
      "Try using .loc[row_indexer,col_indexer] = value instead\n",
      "\n",
      "See the caveats in the documentation: https://pandas.pydata.org/pandas-docs/stable/user_guide/indexing.html#returning-a-view-versus-a-copy\n",
      "  final_dataset.loc[:,'trend'] = ts_decompose_multiplicative.trend\n"
     ]
    }
   ],
   "source": [
    "final_dataset.loc[:,'seasonal'] = ts_decompose_multiplicative.seasonal\n",
    "final_dataset.loc[:,'trend'] = ts_decompose_multiplicative.trend"
   ]
  },
  {
   "cell_type": "code",
   "execution_count": 15,
   "id": "ef6ab62e",
   "metadata": {},
   "outputs": [
    {
     "name": "stderr",
     "output_type": "stream",
     "text": [
      "<ipython-input-15-78701c2abd70>:1: SettingWithCopyWarning: \n",
      "A value is trying to be set on a copy of a slice from a DataFrame.\n",
      "Try using .loc[row_indexer,col_indexer] = value instead\n",
      "\n",
      "See the caveats in the documentation: https://pandas.pydata.org/pandas-docs/stable/user_guide/indexing.html#returning-a-view-versus-a-copy\n",
      "  final_dataset.loc[:,'MAvg_12']= final_dataset.loc[:,'TRX_DERIVED'].rolling(window = 12).mean().shift(1)\n"
     ]
    },
    {
     "data": {
      "text/html": [
       "<div>\n",
       "<style scoped>\n",
       "    .dataframe tbody tr th:only-of-type {\n",
       "        vertical-align: middle;\n",
       "    }\n",
       "\n",
       "    .dataframe tbody tr th {\n",
       "        vertical-align: top;\n",
       "    }\n",
       "\n",
       "    .dataframe thead th {\n",
       "        text-align: right;\n",
       "    }\n",
       "</style>\n",
       "<table border=\"1\" class=\"dataframe\">\n",
       "  <thead>\n",
       "    <tr style=\"text-align: right;\">\n",
       "      <th></th>\n",
       "      <th>TRX_DERIVED</th>\n",
       "      <th>MAvg_12</th>\n",
       "    </tr>\n",
       "  </thead>\n",
       "  <tbody>\n",
       "    <tr>\n",
       "      <th>12</th>\n",
       "      <td>12270</td>\n",
       "      <td>10856.17</td>\n",
       "    </tr>\n",
       "    <tr>\n",
       "      <th>13</th>\n",
       "      <td>10605</td>\n",
       "      <td>11038.17</td>\n",
       "    </tr>\n",
       "    <tr>\n",
       "      <th>14</th>\n",
       "      <td>13407</td>\n",
       "      <td>10987.42</td>\n",
       "    </tr>\n",
       "    <tr>\n",
       "      <th>15</th>\n",
       "      <td>11632</td>\n",
       "      <td>11193.08</td>\n",
       "    </tr>\n",
       "    <tr>\n",
       "      <th>16</th>\n",
       "      <td>12207</td>\n",
       "      <td>11166.58</td>\n",
       "    </tr>\n",
       "    <tr>\n",
       "      <th>17</th>\n",
       "      <td>10880</td>\n",
       "      <td>11217.00</td>\n",
       "    </tr>\n",
       "    <tr>\n",
       "      <th>18</th>\n",
       "      <td>10760</td>\n",
       "      <td>11268.67</td>\n",
       "    </tr>\n",
       "    <tr>\n",
       "      <th>19</th>\n",
       "      <td>12368</td>\n",
       "      <td>11143.83</td>\n",
       "    </tr>\n",
       "    <tr>\n",
       "      <th>20</th>\n",
       "      <td>10229</td>\n",
       "      <td>11278.75</td>\n",
       "    </tr>\n",
       "    <tr>\n",
       "      <th>21</th>\n",
       "      <td>11999</td>\n",
       "      <td>11417.50</td>\n",
       "    </tr>\n",
       "    <tr>\n",
       "      <th>22</th>\n",
       "      <td>9047</td>\n",
       "      <td>11516.00</td>\n",
       "    </tr>\n",
       "    <tr>\n",
       "      <th>23</th>\n",
       "      <td>13254</td>\n",
       "      <td>11469.17</td>\n",
       "    </tr>\n",
       "  </tbody>\n",
       "</table>\n",
       "</div>"
      ],
      "text/plain": [
       "    TRX_DERIVED  MAvg_12\n",
       "12        12270 10856.17\n",
       "13        10605 11038.17\n",
       "14        13407 10987.42\n",
       "15        11632 11193.08\n",
       "16        12207 11166.58\n",
       "17        10880 11217.00\n",
       "18        10760 11268.67\n",
       "19        12368 11143.83\n",
       "20        10229 11278.75\n",
       "21        11999 11417.50\n",
       "22         9047 11516.00\n",
       "23        13254 11469.17"
      ]
     },
     "execution_count": 15,
     "metadata": {},
     "output_type": "execute_result"
    }
   ],
   "source": [
    "final_dataset.loc[:,'MAvg_12']= final_dataset.loc[:,'TRX_DERIVED'].rolling(window = 12).mean().shift(1)\n",
    "pd.set_option('display.float_format', lambda x: '%.2f' % x)\n",
    "final_dataset[['TRX_DERIVED', 'MAvg_12']][12:]"
   ]
  },
  {
   "cell_type": "code",
   "execution_count": null,
   "id": "3f0ec792",
   "metadata": {},
   "outputs": [],
   "source": []
  },
  {
   "cell_type": "code",
   "execution_count": 16,
   "id": "bb5e1ee4",
   "metadata": {},
   "outputs": [
    {
     "data": {
      "text/plain": [
       "<matplotlib.legend.Legend at 0x7f42ec2d96c0>"
      ]
     },
     "execution_count": 16,
     "metadata": {},
     "output_type": "execute_result"
    },
    {
     "data": {
      "image/png": "[encoded data removed]",
      "text/plain": [
       "<Figure size 720x288 with 1 Axes>"
      ]
     },
     "metadata": {
      "needs_background": "light"
     },
     "output_type": "display_data"
    }
   ],
   "source": [
    "plt.figure(figsize=(10,4))\n",
    "plt.xlabel(\"Months\")\n",
    "plt.ylabel(\"TRx\")\n",
    "plt.plot(final_dataset['TRX_DERIVED'][12:])\n",
    "plt.plot(final_dataset['MAvg_12'][12:], '.')\n",
    "plt.legend(['TRx','Moving Average'])"
   ]
  },
  {
   "cell_type": "code",
   "execution_count": 17,
   "id": "5e2390e3",
   "metadata": {},
   "outputs": [],
   "source": [
    "#Defining Mape Function\n",
    "import numpy as np\n",
    "def get_mape(actual, predicted):\n",
    "    y_true , y_pred = np.array(actual) , np.array(predicted)\n",
    "    return np.round(np.mean(np.abs((actual-predicted)/actual))*100, 2)"
   ]
  },
  {
   "cell_type": "code",
   "execution_count": 18,
   "id": "0bebf2d0",
   "metadata": {},
   "outputs": [
    {
     "name": "stdout",
     "output_type": "stream",
     "text": [
      "Mape error in moving average is 9.96 %.\n",
      "Mean Squared Error in moving average is 1351.1926641825514\n"
     ]
    }
   ],
   "source": [
    "from sklearn.metrics import mean_squared_error\n",
    "mse_mavg = np.sqrt(mean_squared_error(final_dataset['TRX_DERIVED'][12:].values , final_dataset['MAvg_12'][12:].values))\n",
    "mape_mavg = get_mape(final_dataset['TRX_DERIVED'][12:].values , final_dataset['MAvg_12'][12:].values)\n",
    "print('Mape error in moving average is', mape_mavg , '%.')\n",
    "print('Mean Squared Error in moving average is', mse_mavg )"
   ]
  },
  {
   "cell_type": "code",
   "execution_count": 19,
   "id": "ba0e5419",
   "metadata": {},
   "outputs": [
    {
     "name": "stderr",
     "output_type": "stream",
     "text": [
      "<ipython-input-19-a9cb28dd75bc>:2: SettingWithCopyWarning: \n",
      "A value is trying to be set on a copy of a slice from a DataFrame.\n",
      "Try using .loc[row_indexer,col_indexer] = value instead\n",
      "\n",
      "See the caveats in the documentation: https://pandas.pydata.org/pandas-docs/stable/user_guide/indexing.html#returning-a-view-versus-a-copy\n",
      "  final_dataset.loc[:,'EWM'] = final_dataset.loc[:,'TRX_DERIVED'].ewm(alpha = 0.2).mean()\n"
     ]
    },
    {
     "data": {
      "text/html": [
       "<div>\n",
       "<style scoped>\n",
       "    .dataframe tbody tr th:only-of-type {\n",
       "        vertical-align: middle;\n",
       "    }\n",
       "\n",
       "    .dataframe tbody tr th {\n",
       "        vertical-align: top;\n",
       "    }\n",
       "\n",
       "    .dataframe thead th {\n",
       "        text-align: right;\n",
       "    }\n",
       "</style>\n",
       "<table border=\"1\" class=\"dataframe\">\n",
       "  <thead>\n",
       "    <tr style=\"text-align: right;\">\n",
       "      <th></th>\n",
       "      <th>DATE</th>\n",
       "      <th>TRX_DERIVED</th>\n",
       "      <th>seasonal</th>\n",
       "      <th>trend</th>\n",
       "      <th>MAvg_12</th>\n",
       "      <th>EWM</th>\n",
       "    </tr>\n",
       "  </thead>\n",
       "  <tbody>\n",
       "    <tr>\n",
       "      <th>12</th>\n",
       "      <td>2023-04-30</td>\n",
       "      <td>12270</td>\n",
       "      <td>1.02</td>\n",
       "      <td>11206.25</td>\n",
       "      <td>10856.17</td>\n",
       "      <td>11114.06</td>\n",
       "    </tr>\n",
       "    <tr>\n",
       "      <th>13</th>\n",
       "      <td>2023-05-31</td>\n",
       "      <td>10605</td>\n",
       "      <td>1.00</td>\n",
       "      <td>11211.29</td>\n",
       "      <td>11038.17</td>\n",
       "      <td>11007.56</td>\n",
       "    </tr>\n",
       "    <tr>\n",
       "      <th>14</th>\n",
       "      <td>2023-06-30</td>\n",
       "      <td>13407</td>\n",
       "      <td>1.10</td>\n",
       "      <td>11348.12</td>\n",
       "      <td>10987.42</td>\n",
       "      <td>11504.95</td>\n",
       "    </tr>\n",
       "    <tr>\n",
       "      <th>15</th>\n",
       "      <td>2023-07-31</td>\n",
       "      <td>11632</td>\n",
       "      <td>1.06</td>\n",
       "      <td>11466.75</td>\n",
       "      <td>11193.08</td>\n",
       "      <td>11531.10</td>\n",
       "    </tr>\n",
       "    <tr>\n",
       "      <th>16</th>\n",
       "      <td>2023-08-31</td>\n",
       "      <td>12207</td>\n",
       "      <td>1.07</td>\n",
       "      <td>11492.58</td>\n",
       "      <td>11166.58</td>\n",
       "      <td>11669.39</td>\n",
       "    </tr>\n",
       "    <tr>\n",
       "      <th>17</th>\n",
       "      <td>2023-09-30</td>\n",
       "      <td>10880</td>\n",
       "      <td>0.94</td>\n",
       "      <td>11512.00</td>\n",
       "      <td>11217.00</td>\n",
       "      <td>11508.62</td>\n",
       "    </tr>\n",
       "    <tr>\n",
       "      <th>18</th>\n",
       "      <td>2023-10-31</td>\n",
       "      <td>10760</td>\n",
       "      <td>1.03</td>\n",
       "      <td>11560.49</td>\n",
       "      <td>11268.67</td>\n",
       "      <td>11356.70</td>\n",
       "    </tr>\n",
       "    <tr>\n",
       "      <th>19</th>\n",
       "      <td>2023-11-30</td>\n",
       "      <td>12368</td>\n",
       "      <td>1.02</td>\n",
       "      <td>11609.53</td>\n",
       "      <td>11143.83</td>\n",
       "      <td>11561.32</td>\n",
       "    </tr>\n",
       "    <tr>\n",
       "      <th>20</th>\n",
       "      <td>2023-12-31</td>\n",
       "      <td>10229</td>\n",
       "      <td>0.83</td>\n",
       "      <td>11658.56</td>\n",
       "      <td>11278.75</td>\n",
       "      <td>11292.38</td>\n",
       "    </tr>\n",
       "    <tr>\n",
       "      <th>21</th>\n",
       "      <td>2024-01-31</td>\n",
       "      <td>11999</td>\n",
       "      <td>1.00</td>\n",
       "      <td>11707.60</td>\n",
       "      <td>11417.50</td>\n",
       "      <td>11434.75</td>\n",
       "    </tr>\n",
       "    <tr>\n",
       "      <th>22</th>\n",
       "      <td>2024-02-29</td>\n",
       "      <td>9047</td>\n",
       "      <td>0.82</td>\n",
       "      <td>11756.63</td>\n",
       "      <td>11516.00</td>\n",
       "      <td>10954.37</td>\n",
       "    </tr>\n",
       "    <tr>\n",
       "      <th>23</th>\n",
       "      <td>2024-03-31</td>\n",
       "      <td>13254</td>\n",
       "      <td>1.11</td>\n",
       "      <td>11805.67</td>\n",
       "      <td>11469.17</td>\n",
       "      <td>11416.48</td>\n",
       "    </tr>\n",
       "  </tbody>\n",
       "</table>\n",
       "</div>"
      ],
      "text/plain": [
       "         DATE  TRX_DERIVED  seasonal    trend  MAvg_12      EWM\n",
       "12 2023-04-30        12270      1.02 11206.25 10856.17 11114.06\n",
       "13 2023-05-31        10605      1.00 11211.29 11038.17 11007.56\n",
       "14 2023-06-30        13407      1.10 11348.12 10987.42 11504.95\n",
       "15 2023-07-31        11632      1.06 11466.75 11193.08 11531.10\n",
       "16 2023-08-31        12207      1.07 11492.58 11166.58 11669.39\n",
       "17 2023-09-30        10880      0.94 11512.00 11217.00 11508.62\n",
       "18 2023-10-31        10760      1.03 11560.49 11268.67 11356.70\n",
       "19 2023-11-30        12368      1.02 11609.53 11143.83 11561.32\n",
       "20 2023-12-31        10229      0.83 11658.56 11278.75 11292.38\n",
       "21 2024-01-31        11999      1.00 11707.60 11417.50 11434.75\n",
       "22 2024-02-29         9047      0.82 11756.63 11516.00 10954.37\n",
       "23 2024-03-31        13254      1.11 11805.67 11469.17 11416.48"
      ]
     },
     "execution_count": 19,
     "metadata": {},
     "output_type": "execute_result"
    }
   ],
   "source": [
    "#Exponential Smoothing\n",
    "final_dataset.loc[:,'EWM'] = final_dataset.loc[:,'TRX_DERIVED'].ewm(alpha = 0.2).mean()\n",
    "final_dataset[12:]"
   ]
  },
  {
   "cell_type": "code",
   "execution_count": 20,
   "id": "d16cd0a5",
   "metadata": {},
   "outputs": [
    {
     "data": {
      "text/plain": [
       "<matplotlib.legend.Legend at 0x7f42ebaa6c20>"
      ]
     },
     "execution_count": 20,
     "metadata": {},
     "output_type": "execute_result"
    },
    {
     "data": {
      "image/png": "[encoded data removed]",
      "text/plain": [
       "<Figure size 720x288 with 1 Axes>"
      ]
     },
     "metadata": {
      "needs_background": "light"
     },
     "output_type": "display_data"
    }
   ],
   "source": [
    "plt.figure(figsize=(10,4))\n",
    "plt.xlabel(\"Months\")\n",
    "plt.ylabel(\"TRx\")\n",
    "plt.plot(final_dataset['TRX_DERIVED'][12:])\n",
    "plt.plot(final_dataset['EWM'][12:], '.')\n",
    "plt.legend(['TRx','EWM'])"
   ]
  },
  {
   "cell_type": "code",
   "execution_count": 21,
   "id": "533affbf",
   "metadata": {},
   "outputs": [
    {
     "name": "stdout",
     "output_type": "stream",
     "text": [
      "Mape error in exponential smoothing is 8.38 %.\n",
      "Mean Squared Error in exponential smoothing is 1128.4532764426763\n",
      "Error reduced by 15.863453815261042 %\n"
     ]
    }
   ],
   "source": [
    "mse_ewm = np.sqrt(mean_squared_error(final_dataset['TRX_DERIVED'][12:].values , final_dataset['EWM'][12:].values))\n",
    "mape_ewm = get_mape(final_dataset['TRX_DERIVED'][12:].values , final_dataset['EWM'][12:].values)\n",
    "print('Mape error in exponential smoothing is', mape_ewm , '%.')\n",
    "print('Mean Squared Error in exponential smoothing is', mse_ewm )\n",
    "print('Error reduced by', (mape_mavg-mape_ewm)*100/mape_mavg , '%')"
   ]
  },
  {
   "cell_type": "code",
   "execution_count": 22,
   "id": "e9fd5d75",
   "metadata": {},
   "outputs": [
    {
     "data": {
      "image/png": "[encoded data removed]",
      "text/plain": [
       "<Figure size 432x288 with 1 Axes>"
      ]
     },
     "metadata": {
      "needs_background": "light"
     },
     "output_type": "display_data"
    },
    {
     "data": {
      "image/png": "[encoded data removed]",
      "text/plain": [
       "<Figure size 432x288 with 1 Axes>"
      ]
     },
     "metadata": {
      "needs_background": "light"
     },
     "output_type": "display_data"
    }
   ],
   "source": [
    "#To identify the value of lag(k)\n",
    "from statsmodels.graphics.tsaplots import plot_acf , plot_pacf\n",
    "\n",
    "acf_plot = plot_acf(final_dataset.TRX_DERIVED, lags =20)\n",
    "pacf_plot = plot_pacf(final_dataset.TRX_DERIVED , lags =10)"
   ]
  },
  {
   "cell_type": "code",
   "execution_count": 23,
   "id": "a4f34e2a",
   "metadata": {},
   "outputs": [
    {
     "data": {
      "text/html": [
       "<table class=\"simpletable\">\n",
       "<caption>SARIMAX Results</caption>\n",
       "<tr>\n",
       "  <th>Dep. Variable:</th>      <td>TRX_DERIVED</td>   <th>  No. Observations:  </th>    <td>12</td>   \n",
       "</tr>\n",
       "<tr>\n",
       "  <th>Model:</th>                 <td>ARIMA</td>      <th>  Log Likelihood     </th> <td>-100.627</td>\n",
       "</tr>\n",
       "<tr>\n",
       "  <th>Date:</th>            <td>Thu, 23 May 2024</td> <th>  AIC                </th>  <td>205.255</td>\n",
       "</tr>\n",
       "<tr>\n",
       "  <th>Time:</th>                <td>10:54:10</td>     <th>  BIC                </th>  <td>206.225</td>\n",
       "</tr>\n",
       "<tr>\n",
       "  <th>Sample:</th>                  <td>0</td>        <th>  HQIC               </th>  <td>204.896</td>\n",
       "</tr>\n",
       "<tr>\n",
       "  <th></th>                       <td> - 12</td>      <th>                     </th>     <td> </td>   \n",
       "</tr>\n",
       "<tr>\n",
       "  <th>Covariance Type:</th>        <td>opg</td>       <th>                     </th>     <td> </td>   \n",
       "</tr>\n",
       "</table>\n",
       "<table class=\"simpletable\">\n",
       "<tr>\n",
       "     <td></td>       <th>coef</th>     <th>std err</th>      <th>z</th>      <th>P>|z|</th>  <th>[0.025</th>    <th>0.975]</th>  \n",
       "</tr>\n",
       "<tr>\n",
       "  <th>const</th>  <td> 1.086e+04</td> <td>  333.331</td> <td>   32.569</td> <td> 0.000</td> <td> 1.02e+04</td> <td> 1.15e+04</td>\n",
       "</tr>\n",
       "<tr>\n",
       "  <th>sigma2</th> <td> 1.114e+06</td> <td> 5.52e+05</td> <td>    2.019</td> <td> 0.043</td> <td> 3.25e+04</td> <td>  2.2e+06</td>\n",
       "</tr>\n",
       "</table>\n",
       "<table class=\"simpletable\">\n",
       "<tr>\n",
       "  <th>Ljung-Box (L1) (Q):</th>     <td>0.37</td> <th>  Jarque-Bera (JB):  </th> <td>0.63</td> \n",
       "</tr>\n",
       "<tr>\n",
       "  <th>Prob(Q):</th>                <td>0.54</td> <th>  Prob(JB):          </th> <td>0.73</td> \n",
       "</tr>\n",
       "<tr>\n",
       "  <th>Heteroskedasticity (H):</th> <td>4.51</td> <th>  Skew:              </th> <td>-0.53</td>\n",
       "</tr>\n",
       "<tr>\n",
       "  <th>Prob(H) (two-sided):</th>    <td>0.17</td> <th>  Kurtosis:          </th> <td>2.61</td> \n",
       "</tr>\n",
       "</table><br/><br/>Warnings:<br/>[1] Covariance matrix calculated using the outer product of gradients (complex-step)."
      ],
      "text/latex": [
       "\\begin{center}\n",
       "\\begin{tabular}{lclc}\n",
       "\\toprule\n",
       "\\textbf{Dep. Variable:}          &   TRX\\_DERIVED   & \\textbf{  No. Observations:  } &     12      \\\\\n",
       "\\textbf{Model:}                  &      ARIMA       & \\textbf{  Log Likelihood     } &  -100.627   \\\\\n",
       "\\textbf{Date:}                   & Thu, 23 May 2024 & \\textbf{  AIC                } &  205.255    \\\\\n",
       "\\textbf{Time:}                   &     10:54:10     & \\textbf{  BIC                } &  206.225    \\\\\n",
       "\\textbf{Sample:}                 &        0         & \\textbf{  HQIC               } &  204.896    \\\\\n",
       "\\textbf{}                        &       - 12       & \\textbf{                     } &             \\\\\n",
       "\\textbf{Covariance Type:}        &       opg        & \\textbf{                     } &             \\\\\n",
       "\\bottomrule\n",
       "\\end{tabular}\n",
       "\\begin{tabular}{lcccccc}\n",
       "                & \\textbf{coef} & \\textbf{std err} & \\textbf{z} & \\textbf{P$> |$z$|$} & \\textbf{[0.025} & \\textbf{0.975]}  \\\\\n",
       "\\midrule\n",
       "\\textbf{const}  &    1.086e+04  &      333.331     &    32.569  &         0.000        &     1.02e+04    &     1.15e+04     \\\\\n",
       "\\textbf{sigma2} &    1.114e+06  &     5.52e+05     &     2.019  &         0.043        &     3.25e+04    &      2.2e+06     \\\\\n",
       "\\bottomrule\n",
       "\\end{tabular}\n",
       "\\begin{tabular}{lclc}\n",
       "\\textbf{Ljung-Box (L1) (Q):}     & 0.37 & \\textbf{  Jarque-Bera (JB):  } &  0.63  \\\\\n",
       "\\textbf{Prob(Q):}                & 0.54 & \\textbf{  Prob(JB):          } &  0.73  \\\\\n",
       "\\textbf{Heteroskedasticity (H):} & 4.51 & \\textbf{  Skew:              } & -0.53  \\\\\n",
       "\\textbf{Prob(H) (two-sided):}    & 0.17 & \\textbf{  Kurtosis:          } &  2.61  \\\\\n",
       "\\bottomrule\n",
       "\\end{tabular}\n",
       "%\\caption{SARIMAX Results}\n",
       "\\end{center}\n",
       "\n",
       "Warnings: \\newline\n",
       " [1] Covariance matrix calculated using the outer product of gradients (complex-step)."
      ],
      "text/plain": [
       "<class 'statsmodels.iolib.summary.Summary'>\n",
       "\"\"\"\n",
       "                               SARIMAX Results                                \n",
       "==============================================================================\n",
       "Dep. Variable:            TRX_DERIVED   No. Observations:                   12\n",
       "Model:                          ARIMA   Log Likelihood                -100.627\n",
       "Date:                Thu, 23 May 2024   AIC                            205.255\n",
       "Time:                        10:54:10   BIC                            206.225\n",
       "Sample:                             0   HQIC                           204.896\n",
       "                                 - 12                                         \n",
       "Covariance Type:                  opg                                         \n",
       "==============================================================================\n",
       "                 coef    std err          z      P>|z|      [0.025      0.975]\n",
       "------------------------------------------------------------------------------\n",
       "const       1.086e+04    333.331     32.569      0.000    1.02e+04    1.15e+04\n",
       "sigma2      1.114e+06   5.52e+05      2.019      0.043    3.25e+04     2.2e+06\n",
       "===================================================================================\n",
       "Ljung-Box (L1) (Q):                   0.37   Jarque-Bera (JB):                 0.63\n",
       "Prob(Q):                              0.54   Prob(JB):                         0.73\n",
       "Heteroskedasticity (H):               4.51   Skew:                            -0.53\n",
       "Prob(H) (two-sided):                  0.17   Kurtosis:                         2.61\n",
       "===================================================================================\n",
       "\n",
       "Warnings:\n",
       "[1] Covariance matrix calculated using the outer product of gradients (complex-step).\n",
       "\"\"\""
      ]
     },
     "execution_count": 23,
     "metadata": {},
     "output_type": "execute_result"
    }
   ],
   "source": [
    "from statsmodels.tsa.arima.model import ARIMA\n",
    "arima_model_1 = ARIMA(final_dataset['TRX_DERIVED'][0:12], order=(0,0,0))\n",
    "ar_model_1 = arima_model_1.fit()\n",
    "ar_model_1.summary()"
   ]
  },
  {
   "cell_type": "code",
   "execution_count": 24,
   "id": "a82e474d",
   "metadata": {},
   "outputs": [
    {
     "name": "stdout",
     "output_type": "stream",
     "text": [
      "Mape error in Auto Regressive model with lag = 0  is 7.4 %.\n"
     ]
    }
   ],
   "source": [
    "forecast_ar_1 = ar_model_1.predict(12,19)\n",
    "mape_ar_1 = get_mape(final_dataset['TRX_DERIVED'][12:19], forecast_ar_1)\n",
    "print('Mape error in Auto Regressive model with lag = 0  is', mape_ar_1 , '%.')"
   ]
  },
  {
   "cell_type": "code",
   "execution_count": 25,
   "id": "ad1e82fd",
   "metadata": {},
   "outputs": [
    {
     "name": "stdout",
     "output_type": "stream",
     "text": [
      "Mape error in Auto Regressive model with lag = 1  is 7.73 %.\n"
     ]
    }
   ],
   "source": [
    "arima_model_2 = ARIMA(final_dataset['TRX_DERIVED'][0:12], order=(1,0,0))\n",
    "ar_model_2 = arima_model_2.fit()\n",
    "forecast_ar_2 = ar_model_2.predict(12,19)\n",
    "mape_ar_2 = get_mape(final_dataset['TRX_DERIVED'][12:19], forecast_ar_2)\n",
    "print('Mape error in Auto Regressive model with lag = 1  is', mape_ar_2 , '%.')"
   ]
  },
  {
   "cell_type": "code",
   "execution_count": 26,
   "id": "5ad8247d",
   "metadata": {},
   "outputs": [
    {
     "name": "stdout",
     "output_type": "stream",
     "text": [
      "Mape error in Auto Regressive Moving Average model with lag = 1  is 7.63 %.\n"
     ]
    }
   ],
   "source": [
    "#ARMA where (p,d,q) where q = 1 , p=0\n",
    "arima_3 = ARIMA(final_dataset['TRX_DERIVED'][0:12], order=(0,0,1))\n",
    "ar_model_3 = arima_3.fit()\n",
    "forecast_arma_3 = ar_model_3.predict(12,18)\n",
    "mape_arma_3 = get_mape(final_dataset['TRX_DERIVED'][12:19], forecast_arma_3)\n",
    "print('Mape error in Auto Regressive Moving Average model with lag = 1  is', mape_arma_3 , '%.')"
   ]
  },
  {
   "cell_type": "code",
   "execution_count": 27,
   "id": "7cdfe1c0",
   "metadata": {},
   "outputs": [
    {
     "name": "stdout",
     "output_type": "stream",
     "text": [
      "Mape error in Auto Regressive Moving Average model with lag = 1  is 7.22 %.\n"
     ]
    }
   ],
   "source": [
    "#ARMA where (p,d,q) where q = 1 , p=1\n",
    "arima_4 = ARIMA(final_dataset['TRX_DERIVED'][0:12], order=(1,0,1))\n",
    "ar_model_4 = arima_4.fit()\n",
    "forecast_arma_4 = ar_model_4.predict(12,18)\n",
    "mape_arma_4 = get_mape(final_dataset['TRX_DERIVED'][12:19], forecast_arma_4)\n",
    "print('Mape error in Auto Regressive Moving Average model with lag = 1  is', mape_arma_4 , '%.')"
   ]
  },
  {
   "cell_type": "code",
   "execution_count": 28,
   "id": "f97df793",
   "metadata": {},
   "outputs": [
    {
     "name": "stdout",
     "output_type": "stream",
     "text": [
      "Mape error in Auto Regressive Integarted Moving Average model with lag = 0  is 7.96 %.\n"
     ]
    }
   ],
   "source": [
    "#ARIMA where (p,d,q) where q = 0 , p=0 , d=1\n",
    "arima_5 = ARIMA(final_dataset['TRX_DERIVED'][0:12], order=(0,1,0))\n",
    "ar_model_5 = arima_5.fit()\n",
    "forecast_arima = ar_model_5.predict(12,18)\n",
    "mape_arma_5 = get_mape(final_dataset['TRX_DERIVED'][12:19], forecast_arima)\n",
    "print('Mape error in Auto Regressive Integarted Moving Average model with lag = 0  is', mape_arma_5, '%.')"
   ]
  },
  {
   "cell_type": "code",
   "execution_count": 29,
   "id": "c8e04c81",
   "metadata": {},
   "outputs": [
    {
     "data": {
      "text/plain": [
       "24   10368.80\n",
       "25   11692.39\n",
       "26   10897.58\n",
       "27   11374.86\n",
       "28   11088.26\n",
       "29   11260.36\n",
       "30   11157.01\n",
       "31   11219.07\n",
       "32   11181.81\n",
       "33   11204.19\n",
       "34   11190.75\n",
       "35   11198.82\n",
       "36   11193.97\n",
       "Name: predicted_mean, dtype: float64"
      ]
     },
     "execution_count": 29,
     "metadata": {},
     "output_type": "execute_result"
    }
   ],
   "source": [
    "#Predict for future values using ARMA\n",
    "from statsmodels.tsa.arima.model import ARIMA\n",
    "arima_final = ARIMA(final_dataset['TRX_DERIVED'][0:24], order=(1,0,1))\n",
    "ar_model_final = arima_final.fit()\n",
    "forecast_arma_final = ar_model_final.predict(24,36)\n",
    "forecast_arma_final"
   ]
  },
  {
   "cell_type": "code",
   "execution_count": 30,
   "id": "e89d5287",
   "metadata": {},
   "outputs": [
    {
     "name": "stdout",
     "output_type": "stream",
     "text": [
      "7.736071428571428\n"
     ]
    }
   ],
   "source": [
    "import warnings\n",
    "warnings.filterwarnings(\"ignore\")\n",
    "brand_unique_values = grouped_data['BRAND'].unique()\n",
    "region_unique_values = grouped_data['REGION'].unique()\n",
    "mape_list = []\n",
    "forcasted_values = []\n",
    "for brand_i in brand_unique_values:\n",
    "    for region_i in region_unique_values:\n",
    "        data = grouped_data[(grouped_data['BRAND']  == brand_i ) & (grouped_data['REGION'] == region_i)]\n",
    "        brand_wise_data = data[['TRX_DERIVED']].reset_index(drop = True)\n",
    "        arima_4 = ARIMA(brand_wise_data['TRX_DERIVED'][0:12], order=(1,0,0))\n",
    "        ar_model_4 = arima_4.fit()\n",
    "        forecast_arma = ar_model_4.predict(12,19)\n",
    "        mape_error = get_mape(brand_wise_data['TRX_DERIVED'][12:19], forecast_arma)\n",
    "        forcasted_values.append([forecast_arma.values, brand_i , region_i])\n",
    "        mape_list.append([mape_error,brand_i,region_i])\n",
    "total_mape = 0\n",
    "for i in range(len(mape_list)):\n",
    "    total_mape+=mape_list[i][0]\n",
    "average_mape = total_mape/len(mape_list)\n",
    "print(average_mape)"
   ]
  },
  {
   "cell_type": "code",
   "execution_count": 31,
   "id": "25f21463",
   "metadata": {},
   "outputs": [],
   "source": [
    "import warnings\n",
    "warnings.filterwarnings(\"ignore\")\n",
    "brand_unique_values = grouped_data['BRAND'].unique()\n",
    "region_unique_values = grouped_data['REGION'].unique()\n",
    "forcasted_values = []\n",
    "for brand_i in brand_unique_values:\n",
    "    for region_i in region_unique_values:\n",
    "        data = grouped_data[(grouped_data['BRAND']  == brand_i ) & (grouped_data['REGION'] == region_i)]\n",
    "        brand_wise_data = data[['TRX_DERIVED']].reset_index(drop = True)\n",
    "        arima_4 = ARIMA(brand_wise_data['TRX_DERIVED'][0:], order=(1,0,0))\n",
    "        ar_model_4 = arima_4.fit()\n",
    "        forecast_arma = ar_model_4.predict(24,36)\n",
    "        forcasted_values.append([forecast_arma.values, brand_i , region_i])"
   ]
  },
  {
   "cell_type": "code",
   "execution_count": 32,
   "id": "fae49e53",
   "metadata": {},
   "outputs": [
    {
     "data": {
      "text/plain": [
       "array([10616.56934623, 11374.81324815, 11156.82313191, 11219.49385126,\n",
       "       11201.47643317, 11206.65632193, 11205.16713811, 11205.59526863,\n",
       "       11205.47218393, 11205.50756997, 11205.49739671, 11205.50032146,\n",
       "       11205.49948061])"
      ]
     },
     "execution_count": 32,
     "metadata": {},
     "output_type": "execute_result"
    }
   ],
   "source": [
    "forcasted_values[0][0]"
   ]
  },
  {
   "cell_type": "code",
   "execution_count": 33,
   "id": "5451725e",
   "metadata": {},
   "outputs": [],
   "source": [
    "forecasted_data = pd.DataFrame(columns=['Brand','Region','Month','Forecasted_TRx'])\n",
    "\n",
    "for j in range(len(forcasted_values)):\n",
    "    for i in range(len(forcasted_values[j][0])):\n",
    "        forecasted_data.loc[len(forecasted_data.index)] = [forcasted_values[j][1], forcasted_values[j][2], 24+i ,forcasted_values[j][0][i]]\n",
    "            "
   ]
  },
  {
   "cell_type": "code",
   "execution_count": 35,
   "id": "8162e848",
   "metadata": {},
   "outputs": [
    {
     "name": "stdout",
     "output_type": "stream",
     "text": [
      "          Brand        Region  Month  Forecasted_TRx       DATE\n",
      "0    ALPHATUMAB  Mid-Atlantic     24        10616.57 2024-04-01\n",
      "1    ALPHATUMAB  Mid-Atlantic     25        11374.81 2024-05-01\n",
      "2    ALPHATUMAB  Mid-Atlantic     26        11156.82 2024-06-01\n",
      "3    ALPHATUMAB  Mid-Atlantic     27        11219.49 2024-07-01\n",
      "4    ALPHATUMAB  Mid-Atlantic     28        11201.48 2024-08-01\n",
      "..          ...           ...    ...             ...        ...\n",
      "359    ZELDATAB          West     32        17753.43 2024-12-01\n",
      "360    ZELDATAB          West     33        17753.42 2025-01-01\n",
      "361    ZELDATAB          West     34        17753.42 2025-02-01\n",
      "362    ZELDATAB          West     35        17753.42 2025-03-01\n",
      "363    ZELDATAB          West     36        17753.42 2025-04-01\n",
      "\n",
      "[364 rows x 5 columns]\n"
     ]
    }
   ],
   "source": [
    "from datetime import datetime\n",
    "from dateutil.relativedelta import relativedelta\n",
    "start_date = datetime(2024, 4 ,1)\n",
    "forecasted_data.loc[:,'DATE'] = forecasted_data.loc[:,'Month'].apply(lambda x: start_date + relativedelta(months = x-24))\n",
    "print(forecasted_data)"
   ]
  },
  {
   "cell_type": "code",
   "execution_count": 201,
   "id": "86fb2467",
   "metadata": {},
   "outputs": [
    {
     "data": {
      "text/plain": [
       "['_Snowflake__connection_details',\n",
       " '__class__',\n",
       " '__delattr__',\n",
       " '__dict__',\n",
       " '__dir__',\n",
       " '__doc__',\n",
       " '__eq__',\n",
       " '__format__',\n",
       " '__ge__',\n",
       " '__getattribute__',\n",
       " '__gt__',\n",
       " '__hash__',\n",
       " '__init__',\n",
       " '__init_subclass__',\n",
       " '__le__',\n",
       " '__lt__',\n",
       " '__module__',\n",
       " '__ne__',\n",
       " '__new__',\n",
       " '__reduce__',\n",
       " '__reduce_ex__',\n",
       " '__repr__',\n",
       " '__setattr__',\n",
       " '__sizeof__',\n",
       " '__str__',\n",
       " '__subclasshook__',\n",
       " '__weakref__',\n",
       " '_get_connection',\n",
       " 'close_connection',\n",
       " 'con_obj',\n",
       " 'execute_query',\n",
       " 'get_connection',\n",
       " 'get_dataframe']"
      ]
     },
     "execution_count": 201,
     "metadata": {},
     "output_type": "execute_result"
    }
   ],
   "source": [
    "dir(snowflake)"
   ]
  },
  {
   "cell_type": "code",
   "execution_count": 232,
   "id": "464b55b3",
   "metadata": {},
   "outputs": [
    {
     "name": "stdout",
     "output_type": "stream",
     "text": [
      "Existing connection object fetched: <snowflake.connector.connection.SnowflakeConnection object at 0x7f426ad36a40>\n",
      "Please close the connection after use!\n"
     ]
    }
   ],
   "source": [
    "con = snowflake.get_connection()"
   ]
  },
  {
   "cell_type": "code",
   "execution_count": 38,
   "id": "a8c2176f",
   "metadata": {},
   "outputs": [],
   "source": [
    "file = 'forecasted_data.csv'\n",
    "forecasted_data.to_csv(file , index=False)"
   ]
  },
  {
   "cell_type": "code",
   "execution_count": 227,
   "id": "60c92359",
   "metadata": {},
   "outputs": [],
   "source": [
    "cursor = con.cursor()"
   ]
  },
  {
   "cell_type": "code",
   "execution_count": 37,
   "id": "a402b866",
   "metadata": {},
   "outputs": [
    {
     "name": "stdout",
     "output_type": "stream",
     "text": [
      "User name picked from OS env: vikaskumar.chauhan@fosfor.com\n",
      "Fetching connections created by vikaskumar.chauhan@fosfor.com user\n",
      "Connection names fetched ['Snowflake_vikas', 'basket_conn'], created by vikaskumar.chauhan@fosfor.com\n",
      "Connection object created: <snowflake.connector.connection.SnowflakeConnection object at 0x7f438e3624d0>\n",
      "Please close the connection after use!\n",
      "Exception occurred in execute_query: Unknown error\n"
     ]
    }
   ],
   "source": [
    "with open(file , 'rb') as f:\n",
    "    #snowflake.execute_query(f\"use warehouse FOSFOR_SOLUTIONS_WH\")\n",
    "    #snowflake.execute_query(f\" use database FDC\")\n",
    "    snowflake.execute_query(f\"PUT file://{file} @FDC.INSIGHT_DESIGNER.INSIGHT_STAGE\")"
   ]
  },
  {
   "cell_type": "code",
   "execution_count": 237,
   "id": "8d69ea13",
   "metadata": {},
   "outputs": [
    {
     "name": "stdout",
     "output_type": "stream",
     "text": [
      "Exception occurred in execute_query: 001757 (42601): SQL compilation error:\n",
      "Table 'FORECASTED_DATA' does not exist\n"
     ]
    }
   ],
   "source": [
    "snowflake.execute_query(f\"COPY INTO Forecasted_data FROM @INSIGHT_STAGE/{file} FILE_FORMAT = (TYPE = 'csv', SKIP_HEADER = 1)\")"
   ]
  },
  {
   "cell_type": "code",
   "execution_count": 214,
   "id": "f6619535",
   "metadata": {},
   "outputs": [
    {
     "data": {
      "text/html": [
       "<div>\n",
       "<style scoped>\n",
       "    .dataframe tbody tr th:only-of-type {\n",
       "        vertical-align: middle;\n",
       "    }\n",
       "\n",
       "    .dataframe tbody tr th {\n",
       "        vertical-align: top;\n",
       "    }\n",
       "\n",
       "    .dataframe thead th {\n",
       "        text-align: right;\n",
       "    }\n",
       "</style>\n",
       "<table border=\"1\" class=\"dataframe\">\n",
       "  <thead>\n",
       "    <tr style=\"text-align: right;\">\n",
       "      <th></th>\n",
       "      <th>PHYSICIAN_ID</th>\n",
       "      <th>IMS_ID</th>\n",
       "      <th>NPI_ID</th>\n",
       "      <th>ADDRESS</th>\n",
       "      <th>STATE</th>\n",
       "      <th>CITY</th>\n",
       "      <th>ZIP_CODE</th>\n",
       "      <th>PHYSICIAN_NAME</th>\n",
       "      <th>SPECIALTY</th>\n",
       "      <th>SPECIALTY_GROUP</th>\n",
       "      <th>...</th>\n",
       "      <th>DISTRICT</th>\n",
       "      <th>TERRITORY</th>\n",
       "      <th>SALES_FORCE</th>\n",
       "      <th>CALL_DETAILS</th>\n",
       "      <th>VEEVA_APPROVED_EMAIL</th>\n",
       "      <th>REMOTE_CALLS</th>\n",
       "      <th>TARGET_TYPE</th>\n",
       "      <th>REFILLS</th>\n",
       "      <th>NBRX_DERIVED</th>\n",
       "      <th>TRX_DERIVED</th>\n",
       "    </tr>\n",
       "  </thead>\n",
       "  <tbody>\n",
       "    <tr>\n",
       "      <th>0</th>\n",
       "      <td>6088550</td>\n",
       "      <td>6088551</td>\n",
       "      <td>1912027582</td>\n",
       "      <td>190 N Main St</td>\n",
       "      <td>Natick</td>\n",
       "      <td>MA</td>\n",
       "      <td>1760</td>\n",
       "      <td>Aurobindo Chakraborty</td>\n",
       "      <td>Cardiovascular Diseases</td>\n",
       "      <td>Primary Care Physician</td>\n",
       "      <td>...</td>\n",
       "      <td>BOSTON METROWEST, MA</td>\n",
       "      <td>BOSTON, MA</td>\n",
       "      <td>Primary Care Specialist</td>\n",
       "      <td>0</td>\n",
       "      <td>0</td>\n",
       "      <td>0</td>\n",
       "      <td>Target</td>\n",
       "      <td>5</td>\n",
       "      <td>2</td>\n",
       "      <td>17</td>\n",
       "    </tr>\n",
       "    <tr>\n",
       "      <th>1</th>\n",
       "      <td>6088550</td>\n",
       "      <td>6088551</td>\n",
       "      <td>1912027582</td>\n",
       "      <td>190 N Main St</td>\n",
       "      <td>Natick</td>\n",
       "      <td>MA</td>\n",
       "      <td>1760</td>\n",
       "      <td>Aurobindo Chakraborty</td>\n",
       "      <td>Cardiovascular Diseases</td>\n",
       "      <td>Primary Care Physician</td>\n",
       "      <td>...</td>\n",
       "      <td>BOSTON METROWEST, MA</td>\n",
       "      <td>BOSTON, MA</td>\n",
       "      <td>Primary Care Specialist</td>\n",
       "      <td>0</td>\n",
       "      <td>0</td>\n",
       "      <td>0</td>\n",
       "      <td>Target</td>\n",
       "      <td>1</td>\n",
       "      <td>1</td>\n",
       "      <td>5</td>\n",
       "    </tr>\n",
       "    <tr>\n",
       "      <th>2</th>\n",
       "      <td>6088550</td>\n",
       "      <td>6088551</td>\n",
       "      <td>1912027582</td>\n",
       "      <td>190 N Main St</td>\n",
       "      <td>Natick</td>\n",
       "      <td>MA</td>\n",
       "      <td>1760</td>\n",
       "      <td>Aurobindo Chakraborty</td>\n",
       "      <td>Cardiovascular Diseases</td>\n",
       "      <td>Primary Care Physician</td>\n",
       "      <td>...</td>\n",
       "      <td>BOSTON METROWEST, MA</td>\n",
       "      <td>BOSTON, MA</td>\n",
       "      <td>Primary Care Specialist</td>\n",
       "      <td>0</td>\n",
       "      <td>0</td>\n",
       "      <td>0</td>\n",
       "      <td>Target</td>\n",
       "      <td>4</td>\n",
       "      <td>5</td>\n",
       "      <td>5</td>\n",
       "    </tr>\n",
       "    <tr>\n",
       "      <th>3</th>\n",
       "      <td>6088550</td>\n",
       "      <td>6088551</td>\n",
       "      <td>1912027582</td>\n",
       "      <td>190 N Main St</td>\n",
       "      <td>Natick</td>\n",
       "      <td>MA</td>\n",
       "      <td>1760</td>\n",
       "      <td>Aurobindo Chakraborty</td>\n",
       "      <td>Cardiovascular Diseases</td>\n",
       "      <td>Primary Care Physician</td>\n",
       "      <td>...</td>\n",
       "      <td>BOSTON METROWEST, MA</td>\n",
       "      <td>BOSTON, MA</td>\n",
       "      <td>Primary Care Specialist</td>\n",
       "      <td>8</td>\n",
       "      <td>3</td>\n",
       "      <td>6</td>\n",
       "      <td>Target</td>\n",
       "      <td>3</td>\n",
       "      <td>2</td>\n",
       "      <td>17</td>\n",
       "    </tr>\n",
       "    <tr>\n",
       "      <th>4</th>\n",
       "      <td>6088550</td>\n",
       "      <td>6088551</td>\n",
       "      <td>1912027582</td>\n",
       "      <td>190 N Main St</td>\n",
       "      <td>Natick</td>\n",
       "      <td>MA</td>\n",
       "      <td>1760</td>\n",
       "      <td>Aurobindo Chakraborty</td>\n",
       "      <td>Cardiovascular Diseases</td>\n",
       "      <td>Primary Care Physician</td>\n",
       "      <td>...</td>\n",
       "      <td>BOSTON METROWEST, MA</td>\n",
       "      <td>BOSTON, MA</td>\n",
       "      <td>Primary Care Specialist</td>\n",
       "      <td>0</td>\n",
       "      <td>0</td>\n",
       "      <td>0</td>\n",
       "      <td>Target</td>\n",
       "      <td>5</td>\n",
       "      <td>1</td>\n",
       "      <td>6</td>\n",
       "    </tr>\n",
       "    <tr>\n",
       "      <th>...</th>\n",
       "      <td>...</td>\n",
       "      <td>...</td>\n",
       "      <td>...</td>\n",
       "      <td>...</td>\n",
       "      <td>...</td>\n",
       "      <td>...</td>\n",
       "      <td>...</td>\n",
       "      <td>...</td>\n",
       "      <td>...</td>\n",
       "      <td>...</td>\n",
       "      <td>...</td>\n",
       "      <td>...</td>\n",
       "      <td>...</td>\n",
       "      <td>...</td>\n",
       "      <td>...</td>\n",
       "      <td>...</td>\n",
       "      <td>...</td>\n",
       "      <td>...</td>\n",
       "      <td>...</td>\n",
       "      <td>...</td>\n",
       "      <td>...</td>\n",
       "    </tr>\n",
       "    <tr>\n",
       "      <th>282523</th>\n",
       "      <td>6324258</td>\n",
       "      <td>6324259</td>\n",
       "      <td>1871584425</td>\n",
       "      <td>413 Owen Dr</td>\n",
       "      <td>Fayetteville</td>\n",
       "      <td>NC</td>\n",
       "      <td>28304</td>\n",
       "      <td>Catherine Margaret Kelly</td>\n",
       "      <td>Pulmonary Disease</td>\n",
       "      <td>Pulmonologist</td>\n",
       "      <td>...</td>\n",
       "      <td>WILMINGTON, NC</td>\n",
       "      <td>RALEIGH, NC</td>\n",
       "      <td>Primary Care Specialist</td>\n",
       "      <td>0</td>\n",
       "      <td>0</td>\n",
       "      <td>0</td>\n",
       "      <td>Non-Target</td>\n",
       "      <td>4</td>\n",
       "      <td>4</td>\n",
       "      <td>44</td>\n",
       "    </tr>\n",
       "    <tr>\n",
       "      <th>282524</th>\n",
       "      <td>6324258</td>\n",
       "      <td>6324259</td>\n",
       "      <td>1871584425</td>\n",
       "      <td>413 Owen Dr</td>\n",
       "      <td>Fayetteville</td>\n",
       "      <td>NC</td>\n",
       "      <td>28304</td>\n",
       "      <td>Catherine Margaret Kelly</td>\n",
       "      <td>Pulmonary Disease</td>\n",
       "      <td>Pulmonologist</td>\n",
       "      <td>...</td>\n",
       "      <td>WILMINGTON, NC</td>\n",
       "      <td>RALEIGH, NC</td>\n",
       "      <td>Primary Care Specialist</td>\n",
       "      <td>0</td>\n",
       "      <td>0</td>\n",
       "      <td>0</td>\n",
       "      <td>Non-Target</td>\n",
       "      <td>2</td>\n",
       "      <td>1</td>\n",
       "      <td>7</td>\n",
       "    </tr>\n",
       "    <tr>\n",
       "      <th>282525</th>\n",
       "      <td>6324258</td>\n",
       "      <td>6324259</td>\n",
       "      <td>1871584425</td>\n",
       "      <td>413 Owen Dr</td>\n",
       "      <td>Fayetteville</td>\n",
       "      <td>NC</td>\n",
       "      <td>28304</td>\n",
       "      <td>Catherine Margaret Kelly</td>\n",
       "      <td>Pulmonary Disease</td>\n",
       "      <td>Pulmonologist</td>\n",
       "      <td>...</td>\n",
       "      <td>WILMINGTON, NC</td>\n",
       "      <td>RALEIGH, NC</td>\n",
       "      <td>Primary Care Specialist</td>\n",
       "      <td>2</td>\n",
       "      <td>1</td>\n",
       "      <td>1</td>\n",
       "      <td>Non-Target</td>\n",
       "      <td>0</td>\n",
       "      <td>2</td>\n",
       "      <td>2</td>\n",
       "    </tr>\n",
       "    <tr>\n",
       "      <th>282526</th>\n",
       "      <td>6324258</td>\n",
       "      <td>6324259</td>\n",
       "      <td>1871584425</td>\n",
       "      <td>413 Owen Dr</td>\n",
       "      <td>Fayetteville</td>\n",
       "      <td>NC</td>\n",
       "      <td>28304</td>\n",
       "      <td>Catherine Margaret Kelly</td>\n",
       "      <td>Pulmonary Disease</td>\n",
       "      <td>Pulmonologist</td>\n",
       "      <td>...</td>\n",
       "      <td>WILMINGTON, NC</td>\n",
       "      <td>RALEIGH, NC</td>\n",
       "      <td>Primary Care Specialist</td>\n",
       "      <td>3</td>\n",
       "      <td>1</td>\n",
       "      <td>3</td>\n",
       "      <td>Non-Target</td>\n",
       "      <td>5</td>\n",
       "      <td>0</td>\n",
       "      <td>60</td>\n",
       "    </tr>\n",
       "    <tr>\n",
       "      <th>282527</th>\n",
       "      <td>6324258</td>\n",
       "      <td>6324259</td>\n",
       "      <td>1871584425</td>\n",
       "      <td>413 Owen Dr</td>\n",
       "      <td>Fayetteville</td>\n",
       "      <td>NC</td>\n",
       "      <td>28304</td>\n",
       "      <td>Catherine Margaret Kelly</td>\n",
       "      <td>Pulmonary Disease</td>\n",
       "      <td>Pulmonologist</td>\n",
       "      <td>...</td>\n",
       "      <td>WILMINGTON, NC</td>\n",
       "      <td>RALEIGH, NC</td>\n",
       "      <td>Primary Care Specialist</td>\n",
       "      <td>3</td>\n",
       "      <td>1</td>\n",
       "      <td>1</td>\n",
       "      <td>Non-Target</td>\n",
       "      <td>3</td>\n",
       "      <td>0</td>\n",
       "      <td>36</td>\n",
       "    </tr>\n",
       "  </tbody>\n",
       "</table>\n",
       "<p>282528 rows × 32 columns</p>\n",
       "</div>"
      ],
      "text/plain": [
       "        PHYSICIAN_ID   IMS_ID      NPI_ID        ADDRESS         STATE CITY   \n",
       "0            6088550  6088551  1912027582  190 N Main St        Natick   MA  \\\n",
       "1            6088550  6088551  1912027582  190 N Main St        Natick   MA   \n",
       "2            6088550  6088551  1912027582  190 N Main St        Natick   MA   \n",
       "3            6088550  6088551  1912027582  190 N Main St        Natick   MA   \n",
       "4            6088550  6088551  1912027582  190 N Main St        Natick   MA   \n",
       "...              ...      ...         ...            ...           ...  ...   \n",
       "282523       6324258  6324259  1871584425    413 Owen Dr  Fayetteville   NC   \n",
       "282524       6324258  6324259  1871584425    413 Owen Dr  Fayetteville   NC   \n",
       "282525       6324258  6324259  1871584425    413 Owen Dr  Fayetteville   NC   \n",
       "282526       6324258  6324259  1871584425    413 Owen Dr  Fayetteville   NC   \n",
       "282527       6324258  6324259  1871584425    413 Owen Dr  Fayetteville   NC   \n",
       "\n",
       "        ZIP_CODE            PHYSICIAN_NAME                SPECIALTY   \n",
       "0           1760     Aurobindo Chakraborty  Cardiovascular Diseases  \\\n",
       "1           1760     Aurobindo Chakraborty  Cardiovascular Diseases   \n",
       "2           1760     Aurobindo Chakraborty  Cardiovascular Diseases   \n",
       "3           1760     Aurobindo Chakraborty  Cardiovascular Diseases   \n",
       "4           1760     Aurobindo Chakraborty  Cardiovascular Diseases   \n",
       "...          ...                       ...                      ...   \n",
       "282523     28304  Catherine Margaret Kelly        Pulmonary Disease   \n",
       "282524     28304  Catherine Margaret Kelly        Pulmonary Disease   \n",
       "282525     28304  Catherine Margaret Kelly        Pulmonary Disease   \n",
       "282526     28304  Catherine Margaret Kelly        Pulmonary Disease   \n",
       "282527     28304  Catherine Margaret Kelly        Pulmonary Disease   \n",
       "\n",
       "               SPECIALTY_GROUP  ...              DISTRICT    TERRITORY   \n",
       "0       Primary Care Physician  ...  BOSTON METROWEST, MA   BOSTON, MA  \\\n",
       "1       Primary Care Physician  ...  BOSTON METROWEST, MA   BOSTON, MA   \n",
       "2       Primary Care Physician  ...  BOSTON METROWEST, MA   BOSTON, MA   \n",
       "3       Primary Care Physician  ...  BOSTON METROWEST, MA   BOSTON, MA   \n",
       "4       Primary Care Physician  ...  BOSTON METROWEST, MA   BOSTON, MA   \n",
       "...                        ...  ...                   ...          ...   \n",
       "282523           Pulmonologist  ...        WILMINGTON, NC  RALEIGH, NC   \n",
       "282524           Pulmonologist  ...        WILMINGTON, NC  RALEIGH, NC   \n",
       "282525           Pulmonologist  ...        WILMINGTON, NC  RALEIGH, NC   \n",
       "282526           Pulmonologist  ...        WILMINGTON, NC  RALEIGH, NC   \n",
       "282527           Pulmonologist  ...        WILMINGTON, NC  RALEIGH, NC   \n",
       "\n",
       "                    SALES_FORCE CALL_DETAILS VEEVA_APPROVED_EMAIL   \n",
       "0       Primary Care Specialist            0                    0  \\\n",
       "1       Primary Care Specialist            0                    0   \n",
       "2       Primary Care Specialist            0                    0   \n",
       "3       Primary Care Specialist            8                    3   \n",
       "4       Primary Care Specialist            0                    0   \n",
       "...                         ...          ...                  ...   \n",
       "282523  Primary Care Specialist            0                    0   \n",
       "282524  Primary Care Specialist            0                    0   \n",
       "282525  Primary Care Specialist            2                    1   \n",
       "282526  Primary Care Specialist            3                    1   \n",
       "282527  Primary Care Specialist            3                    1   \n",
       "\n",
       "       REMOTE_CALLS  TARGET_TYPE  REFILLS  NBRX_DERIVED  TRX_DERIVED  \n",
       "0                 0       Target        5             2           17  \n",
       "1                 0       Target        1             1            5  \n",
       "2                 0       Target        4             5            5  \n",
       "3                 6       Target        3             2           17  \n",
       "4                 0       Target        5             1            6  \n",
       "...             ...          ...      ...           ...          ...  \n",
       "282523            0   Non-Target        4             4           44  \n",
       "282524            0   Non-Target        2             1            7  \n",
       "282525            1   Non-Target        0             2            2  \n",
       "282526            3   Non-Target        5             0           60  \n",
       "282527            1   Non-Target        3             0           36  \n",
       "\n",
       "[282528 rows x 32 columns]"
      ]
     },
     "execution_count": 214,
     "metadata": {},
     "output_type": "execute_result"
    }
   ],
   "source": []
  }
 ],
 "metadata": {
  "kernelspec": {
   "display_name": "Python 3",
   "language": "python",
   "name": "python3"
  },
  "language_info": {
   "codemirror_mode": {
    "name": "ipython",
    "version": 3
   },
   "file_extension": ".py",
   "mimetype": "text/x-python",
   "name": "python",
   "nbconvert_exporter": "python",
   "pygments_lexer": "ipython3",
   "version": "3.10.13"
  }
 },
 "nbformat": 4,
 "nbformat_minor": 5
}
